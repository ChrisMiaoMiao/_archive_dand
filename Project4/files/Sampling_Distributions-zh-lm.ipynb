{
 "cells": [
  {
   "cell_type": "markdown",
   "metadata": {},
   "source": [
    "### 抽样分布简介\n",
    "\n",
    "为了更好地理解抽样分布的概念，让我们先用 python 语言做一些练习。\n",
    "\n",
    "下面是一个数组，代表我们在之前的视频中看到的学员。其中，1代表喝咖啡的学生，0代表不喝咖啡的学生。"
   ]
  },
  {
   "cell_type": "code",
   "execution_count": 31,
   "metadata": {},
   "outputs": [],
   "source": [
    "# 导入numpy使用随机函数\n",
    "import numpy as np\n",
    "# 设定seed，seed的作用是设定了（n）以后，每次随机都能得到相同的抽样\n",
    "# 这种情况在还原分析过程时非常有用\n",
    "# 设定了之后就一直有效，直到被覆盖\n",
    "np.random.seed(42)\n",
    "students = np.array([1,0,1,1,1,1,0,0,0,0,1,1,1,1,1,1,1,1,1,1,0])"
   ]
  },
  {
   "cell_type": "code",
   "execution_count": 32,
   "metadata": {},
   "outputs": [
    {
     "data": {
      "text/plain": [
       "array([1, 0, 1, 1, 1, 1, 0, 0, 0, 0, 1, 1, 1, 1, 1, 1, 1, 1, 1, 1, 0])"
      ]
     },
     "execution_count": 32,
     "metadata": {},
     "output_type": "execute_result"
    }
   ],
   "source": [
    "students"
   ]
  },
  {
   "cell_type": "code",
   "execution_count": 33,
   "metadata": {},
   "outputs": [
    {
     "data": {
      "text/plain": [
       "0.7142857142857143"
      ]
     },
     "execution_count": 33,
     "metadata": {},
     "output_type": "execute_result"
    }
   ],
   "source": [
    "students.mean()"
   ]
  },
  {
   "cell_type": "code",
   "execution_count": 42,
   "metadata": {},
   "outputs": [
    {
     "data": {
      "text/plain": [
       "array([0, 1, 1, 1, 0])"
      ]
     },
     "execution_count": 42,
     "metadata": {},
     "output_type": "execute_result"
    }
   ],
   "source": [
    "# 注意在jupyter 中，seed的设置要和choice在一个代码框才生效\n",
    "# 所以再输入一遍\n",
    "np.random.seed(42)\n",
    "# 此处是用np.random.choice把学生进行抽样，（）为参数\n",
    "# 第1个参数是数据，就是students\n",
    "# 第2个参数是抽样的个数\n",
    "# 第3个参数replace默认= Ture，就是可以再次选中被取到的数\n",
    "# True的情况适合用在两个骰子。从1-6取，取到1之后还可以取到1\n",
    "# 学生这个例子要用False，因为一个学生被取走了，就不可以再取了\n",
    "# random.choice的官方文档\n",
    "# https://docs.scipy.org/doc/numpy/reference/generated/numpy.random.choice.html\n",
    "sample = np.random.choice(students,size = 5 ,replace = True)\n",
    "sample"
   ]
  },
  {
   "cell_type": "code",
   "execution_count": 9,
   "metadata": {},
   "outputs": [
    {
     "data": {
      "text/plain": [
       "0.59999999999999998"
      ]
     },
     "execution_count": 9,
     "metadata": {},
     "output_type": "execute_result"
    }
   ],
   "source": [
    "sample.sum()/len(sample)"
   ]
  },
  {
   "cell_type": "code",
   "execution_count": 7,
   "metadata": {},
   "outputs": [
    {
     "data": {
      "text/plain": [
       "0.59999999999999998"
      ]
     },
     "execution_count": 7,
     "metadata": {},
     "output_type": "execute_result"
    }
   ],
   "source": [
    "p_sample = sum(sample == 1)/len(sample)\n",
    "p_sample"
   ]
  },
  {
   "cell_type": "code",
   "execution_count": null,
   "metadata": {},
   "outputs": [],
   "source": []
  },
  {
   "cell_type": "markdown",
   "metadata": {},
   "source": [
    "`1.` 计算出上述数组中喝咖啡的学生的比例，并将此值存储在变量 **p** 中。\n",
    "\n",
    "`2.` 使用 numpy 的 **random.choice** 模拟从 `students` 数组中进行5次取样。喝咖啡学员样本的比例是多少？ \n",
    "\n",
    "`3.` 重复上述步骤，再另外获取10,000个比例值，其中每个样本的大小为5。把这些数值存储在 `sample_props` 变量中。\n",
    "\n",
    "`4.` 这10，000个比例值的平均比例值是多少？该值通常被称为 **抽样分布均值** 。\n",
    "\n",
    "`5.` 21个原始数据值的方差和标准差分别是多少？\n",
    "\n",
    "`6.` 你获取的10000个比例值的方差和标准差分别是多少？\n",
    "\n",
    "`7.` 计算 p(1-p)，你的哪个答案与它最接近？ \n",
    "\n",
    "`8.` 计算 p(1-p)/n，你的哪个答案与它最接近？ \n",
    "\n",
    "`9.` 需要注意的是， `8.` 中的答案通常被称为 **抽样分布方差** 。如果将第一个样本大小更改为20，最终的抽样分布方差会发生什么变化？ 模拟并重新计算 `6.` 与 `8.` 的答案，检验一下你之前发现的一致性是否仍然成立。"
   ]
  },
  {
   "cell_type": "code",
   "execution_count": null,
   "metadata": {},
   "outputs": [],
   "source": [
    "##Simulate your 20 draws"
   ]
  },
  {
   "cell_type": "code",
   "execution_count": null,
   "metadata": {},
   "outputs": [],
   "source": [
    "##Compare your variance values as computed in 6 and 8, \n",
    "##but with your sample of 20 values"
   ]
  },
  {
   "cell_type": "markdown",
   "metadata": {},
   "source": [
    "`10.` 最后，从样本数量为5的样本和样本数量为20的样本中进行10000次取样，然后绘制一个直方图。这些分布中的每一个都是一个样本分布。 一个是样本量5的比例，另一个是样本量20的样本分布。"
   ]
  },
  {
   "cell_type": "code",
   "execution_count": null,
   "metadata": {},
   "outputs": [],
   "source": []
  }
 ],
 "metadata": {
  "kernelspec": {
   "display_name": "Python 3",
   "language": "python",
   "name": "python3"
  },
  "language_info": {
   "codemirror_mode": {
    "name": "ipython",
    "version": 3
   },
   "file_extension": ".py",
   "mimetype": "text/x-python",
   "name": "python",
   "nbconvert_exporter": "python",
   "pygments_lexer": "ipython3",
   "version": "3.6.5"
  }
 },
 "nbformat": 4,
 "nbformat_minor": 2
}
