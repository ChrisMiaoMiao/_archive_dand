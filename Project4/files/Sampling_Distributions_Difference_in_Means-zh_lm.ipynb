{
 "cells": [
  {
   "cell_type": "markdown",
   "metadata": {},
   "source": [
    "### 置信区间 - 均数差\n",
    "\n",
    "这里，你将从最后一个视频中看到一个示例。此外，你还将进一步深入了解这些数据可能得出的实际结果。"
   ]
  },
  {
   "cell_type": "code",
   "execution_count": 4,
   "metadata": {},
   "outputs": [],
   "source": [
    "import pandas as pd\n",
    "import numpy as np\n",
    "import matplotlib.pyplot as plt\n",
    "\n",
    "%matplotlib inline\n",
    "np.random.seed(42)\n",
    "\n",
    "full_data = pd.read_csv('coffee_dataset.csv')\n",
    "sample_data = full_data.sample(200)"
   ]
  },
  {
   "cell_type": "code",
   "execution_count": 5,
   "metadata": {},
   "outputs": [
    {
     "data": {
      "text/html": [
       "<div>\n",
       "<style scoped>\n",
       "    .dataframe tbody tr th:only-of-type {\n",
       "        vertical-align: middle;\n",
       "    }\n",
       "\n",
       "    .dataframe tbody tr th {\n",
       "        vertical-align: top;\n",
       "    }\n",
       "\n",
       "    .dataframe thead th {\n",
       "        text-align: right;\n",
       "    }\n",
       "</style>\n",
       "<table border=\"1\" class=\"dataframe\">\n",
       "  <thead>\n",
       "    <tr style=\"text-align: right;\">\n",
       "      <th></th>\n",
       "      <th>user_id</th>\n",
       "      <th>age</th>\n",
       "      <th>drinks_coffee</th>\n",
       "      <th>height</th>\n",
       "    </tr>\n",
       "  </thead>\n",
       "  <tbody>\n",
       "    <tr>\n",
       "      <th>2402</th>\n",
       "      <td>2874</td>\n",
       "      <td>&lt;21</td>\n",
       "      <td>True</td>\n",
       "      <td>64.357154</td>\n",
       "    </tr>\n",
       "    <tr>\n",
       "      <th>2864</th>\n",
       "      <td>3670</td>\n",
       "      <td>&gt;=21</td>\n",
       "      <td>True</td>\n",
       "      <td>66.859636</td>\n",
       "    </tr>\n",
       "    <tr>\n",
       "      <th>2167</th>\n",
       "      <td>7441</td>\n",
       "      <td>&lt;21</td>\n",
       "      <td>False</td>\n",
       "      <td>66.659561</td>\n",
       "    </tr>\n",
       "    <tr>\n",
       "      <th>507</th>\n",
       "      <td>2781</td>\n",
       "      <td>&gt;=21</td>\n",
       "      <td>True</td>\n",
       "      <td>70.166241</td>\n",
       "    </tr>\n",
       "    <tr>\n",
       "      <th>1817</th>\n",
       "      <td>2875</td>\n",
       "      <td>&gt;=21</td>\n",
       "      <td>True</td>\n",
       "      <td>71.369120</td>\n",
       "    </tr>\n",
       "  </tbody>\n",
       "</table>\n",
       "</div>"
      ],
      "text/plain": [
       "      user_id   age  drinks_coffee     height\n",
       "2402     2874   <21           True  64.357154\n",
       "2864     3670  >=21           True  66.859636\n",
       "2167     7441   <21          False  66.659561\n",
       "507      2781  >=21           True  70.166241\n",
       "1817     2875  >=21           True  71.369120"
      ]
     },
     "execution_count": 5,
     "metadata": {},
     "output_type": "execute_result"
    }
   ],
   "source": [
    "sample_data.head()"
   ]
  },
  {
   "cell_type": "markdown",
   "metadata": {},
   "source": [
    "`1.` 对于10,000次迭代，自展法（bootstrap）会对你的样本数据进行抽样，计算喝咖啡和不喝咖啡的人的平均身高的差异。使用你的抽样分布建立一个99％的置信区间。根据你的区间开始回答下面的第一个测试题目。\n",
    "\n",
    "`2.` 对于10,000次迭代，自展法会对样本数据进行抽样，计算21岁以上和21岁以下的平均身高的差异。使用你的抽样分布构建一个99％的置信区间。根据你的区间来完成回答下面的第一个测试题目。\n",
    "\n",
    "`3.` 对于10,000次迭代，自展法会对你的样本数据进行抽样，计算出21岁 **以下** 个体的喝咖啡的人的平均身高和不喝咖啡的人的平均身高之间的 **差异** 。使用你的抽样分布，建立一个95％的置信区间。根据你的区间来回答下面的第二个测试题目。\n",
    "\n",
    "`4.` 对于10,000次迭代，自展法会对你的样本数据进行抽样，计算出21岁 **以上** 个体的喝咖啡的人的平均身高和不喝咖啡的人的平均身高之间的 **差异** 。使用你的抽样分布，建立一个95％的置信区间。根据你的区间来回答下面的第二个测试题目以及下列问题。"
   ]
  },
  {
   "cell_type": "code",
   "execution_count": 6,
   "metadata": {},
   "outputs": [
    {
     "data": {
      "image/png": "[encoded data removed]",
      "text/plain": [
       "<Figure size 432x288 with 1 Axes>"
      ]
     },
     "metadata": {},
     "output_type": "display_data"
    }
   ],
   "source": [
    "import matplotlib.pyplot as plt\n",
    "% matplotlib inline\n",
    "# 定义新的列表\n",
    "means_f = []\n",
    "for i in range(10000):\n",
    "    sample = sample_data.sample(200, replace = True)\n",
    "    mean_coffee = sample[sample['drinks_coffee'] == True]['height'].mean()\n",
    "    mean_coffee_no = sample[sample['drinks_coffee'] == False]['height'].mean()\n",
    "    # 将两类人的身高求差，存到列表中\n",
    "    means_f.append(mean_coffee - mean_coffee_no)\n",
    "# 画图看看\n",
    "plt.hist(means_f);"
   ]
  },
  {
   "cell_type": "code",
   "execution_count": 7,
   "metadata": {},
   "outputs": [
    {
     "data": {
      "text/plain": [
       "(0.3965686790909317, 2.243258868112464)"
      ]
     },
     "execution_count": 7,
     "metadata": {},
     "output_type": "execute_result"
    }
   ],
   "source": [
    "# 查看95%置信区间\n",
    "np.percentile(means_f, 2.5),np.percentile(means_f, 97.5)"
   ]
  },
  {
   "cell_type": "code",
   "execution_count": 8,
   "metadata": {},
   "outputs": [
    {
     "data": {
      "text/plain": [
       "(3.5754196021207765, 4.8942324635943075)"
      ]
     },
     "execution_count": 8,
     "metadata": {},
     "output_type": "execute_result"
    }
   ],
   "source": [
    "# 查看差值95%置信区间\n",
    "means_f = []\n",
    "for i in range(10000):\n",
    "    sample = sample_data.sample(200, replace = True)\n",
    "    mean_coffee = sample[sample['age'] =='>=21']['height'].mean()\n",
    "    mean_coffee_no = sample[sample['age']=='<21']['height'].mean()\n",
    "    means_f.append(mean_coffee - mean_coffee_no)\n",
    "    \n",
    "np.percentile(means_f, 2.5),np.percentile(means_f, 97.5)"
   ]
  },
  {
   "cell_type": "markdown",
   "metadata": {},
   "source": [
    "- 以上为自展法\n",
    "- 下面用传统的t检验查看置信区间"
   ]
  },
  {
   "cell_type": "code",
   "execution_count": 13,
   "metadata": {},
   "outputs": [
    {
     "data": {
      "text/plain": [
       "(0.39600106159185644, 2.273413157022891)"
      ]
     },
     "execution_count": 13,
     "metadata": {},
     "output_type": "execute_result"
    }
   ],
   "source": [
    "# 引入统计库\n",
    "import statsmodels.stats.api as sms\n",
    "# X1为筛选喝咖啡的同学\n",
    "# X2 为不喝咖啡的同学\n",
    "# 注意筛选之后又只选中了列['height']\n",
    "X1 = sample_data[sample_data['drinks_coffee'] == True]['height']\n",
    "X2 = sample_data[sample_data['drinks_coffee'] == False]['height']\n",
    "# 调用sms.CompareMeans比较X1和X2的均值，并赋值给cm\n",
    "# 这里看明白怎么输入X1，X2，会套用就可以了\n",
    "cm = sms.CompareMeans(sms.DescrStatsW(X1), sms.DescrStatsW(X2))\n",
    "# 使用tconfint_diff输出置信区间\n",
    "# 这个方法的官方文档： http://www.statsmodels.org/dev/generated/statsmodels.stats.weightstats.CompareMeans.tconfint_diff.html\n",
    "cm.tconfint_diff(usevar = 'unequal')"
   ]
  },
  {
   "cell_type": "code",
   "execution_count": 17,
   "metadata": {},
   "outputs": [
    {
     "data": {
      "text/plain": [
       "(1.3287464871594814, 1.340667731455266)"
      ]
     },
     "execution_count": 17,
     "metadata": {},
     "output_type": "execute_result"
    }
   ],
   "source": [
    "# 对于上面最后一句其实有3个参数\n",
    "# alpla=0.05,就是说默认是求的95%的置信区间，我们把这个区间缩小到1%试试\n",
    "cm.tconfint_diff(alpha=0.99,usevar = 'unequal')\n",
    "# 就是hist图正中间那个了"
   ]
  },
  {
   "cell_type": "code",
   "execution_count": 19,
   "metadata": {},
   "outputs": [
    {
     "data": {
      "text/plain": [
       "(0.5485632047910104, inf)"
      ]
     },
     "execution_count": 19,
     "metadata": {},
     "output_type": "execute_result"
    }
   ],
   "source": [
    "# 接来下我们试下第二个参数alternative，默认是two-side\n",
    "# 其实这和假设检验的描述有关，在95%的置信区间时候\n",
    "# 如果舍弃的是最小的2.5%和最大的2.5%就是two-side\n",
    "# 如果舍弃的是最小的5%，最大的都保留那就是larger\n",
    "# 相反情况的话就是smaller\n",
    "cm.tconfint_diff(alternative = 'larger',usevar = 'unequal')"
   ]
  },
  {
   "cell_type": "code",
   "execution_count": 21,
   "metadata": {},
   "outputs": [
    {
     "data": {
      "text/plain": [
       "(-inf, 2.120851013823737)"
      ]
     },
     "execution_count": 21,
     "metadata": {},
     "output_type": "execute_result"
    }
   ],
   "source": [
    "cm.tconfint_diff(alternative = 'smaller',usevar = 'unequal')"
   ]
  },
  {
   "cell_type": "code",
   "execution_count": 22,
   "metadata": {},
   "outputs": [
    {
     "data": {
      "text/plain": [
       "(0.39600106159185644, 2.273413157022891)"
      ]
     },
     "execution_count": 22,
     "metadata": {},
     "output_type": "execute_result"
    }
   ],
   "source": [
    "cm.tconfint_diff(usevar = 'unequal')\n",
    "# 对比这3个输出，就能明白参数的意思"
   ]
  },
  {
   "cell_type": "code",
   "execution_count": 23,
   "metadata": {},
   "outputs": [
    {
     "data": {
      "text/plain": [
       "(0.450680827246435, 2.2187333913683123)"
      ]
     },
     "execution_count": 23,
     "metadata": {},
     "output_type": "execute_result"
    }
   ],
   "source": [
    "# 最后的参数是 usevar = ‘pooled’ （默认）\n",
    "# pooled的意思是 两个样本的sd标准差推断是相同的\n",
    "# 如果是‘unequal’则相反，将会使用Welsh ttest进行相关的计算\n",
    "# https://en.wikipedia.org/wiki/Welch%27s_t-test\n",
    "# 注意t检验也是对总体呈正态分布的样本进行检验的\n",
    "# 但是t检验比较适用的样本数较少（做了一点修正） n<30\n",
    "# 因为样本较少，所以sd可能会不同（根据参数说明）\n",
    "# https://baike.baidu.com/item/t%E6%A3%80%E9%AA%8C\n",
    "# 因为这两组身高我们是认为（或者看了自展的结果）有差异的\n",
    "# 所以应该使用unequal参数，\n",
    "# 使用默认pool的结果则相差较大：\n",
    "cm.tconfint_diff()"
   ]
  }
 ],
 "metadata": {
  "kernelspec": {
   "display_name": "Python 3",
   "language": "python",
   "name": "python3"
  },
  "language_info": {
   "codemirror_mode": {
    "name": "ipython",
    "version": 3
   },
   "file_extension": ".py",
   "mimetype": "text/x-python",
   "name": "python",
   "nbconvert_exporter": "python",
   "pygments_lexer": "ipython3",
   "version": "3.6.5"
  }
 },
 "nbformat": 4,
 "nbformat_minor": 2
}
