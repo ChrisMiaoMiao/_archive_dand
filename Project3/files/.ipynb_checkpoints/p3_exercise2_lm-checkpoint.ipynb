{
 "cells": [
  {
   "cell_type": "markdown",
   "metadata": {
    "collapsed": true
   },
   "source": [
    "# /5评估数据/ Assessing\n",
    "Use the space below to explore `all_alpha_08.csv` and `all_alpha_18.csv` to answer the quiz questions below."
   ]
  },
  {
   "cell_type": "code",
   "execution_count": 659,
   "metadata": {},
   "outputs": [],
   "source": [
    "import pandas as pd\n",
    "import numpy as np\n",
    "import pprint as pp\n",
    "df08 = pd.read_csv('all_alpha_08.txt', sep = '\\t')\n",
    "df18 = pd.read_csv('all_alpha_18.txt', sep = '\\t')\n",
    "# 注意原文件链接为xlsx、zip和txt（不是csv，csv课程中没给出链接）\n",
    "# 使用read_csv读入，发现没有分列，看样子是tab分割\n",
    "# 加个 sep = '\\t'指定使用tab分割解决\n",
    "# （mac 遇到奇怪问题下载的文件都很奇怪，可能和单位网有关）"
   ]
  },
  {
   "cell_type": "code",
   "execution_count": 660,
   "metadata": {},
   "outputs": [
    {
     "data": {
      "text/html": [
       "<div>\n",
       "<style scoped>\n",
       "    .dataframe tbody tr th:only-of-type {\n",
       "        vertical-align: middle;\n",
       "    }\n",
       "\n",
       "    .dataframe tbody tr th {\n",
       "        vertical-align: top;\n",
       "    }\n",
       "\n",
       "    .dataframe thead th {\n",
       "        text-align: right;\n",
       "    }\n",
       "</style>\n",
       "<table border=\"1\" class=\"dataframe\">\n",
       "  <thead>\n",
       "    <tr style=\"text-align: right;\">\n",
       "      <th></th>\n",
       "      <th>Model</th>\n",
       "      <th>Displ</th>\n",
       "      <th>Cyl</th>\n",
       "      <th>Trans</th>\n",
       "      <th>Drive</th>\n",
       "      <th>Fuel</th>\n",
       "      <th>Sales Area</th>\n",
       "      <th>Stnd</th>\n",
       "      <th>Underhood ID</th>\n",
       "      <th>Veh Class</th>\n",
       "      <th>Air Pollution Score</th>\n",
       "      <th>FE Calc Appr</th>\n",
       "      <th>City MPG</th>\n",
       "      <th>Hwy MPG</th>\n",
       "      <th>Cmb MPG</th>\n",
       "      <th>Unadj Cmb MPG</th>\n",
       "      <th>Greenhouse Gas Score</th>\n",
       "      <th>SmartWay</th>\n",
       "    </tr>\n",
       "  </thead>\n",
       "  <tbody>\n",
       "    <tr>\n",
       "      <th>0</th>\n",
       "      <td>ACURA MDX</td>\n",
       "      <td>3.7</td>\n",
       "      <td>(6 cyl)</td>\n",
       "      <td>Auto-S5</td>\n",
       "      <td>4WD</td>\n",
       "      <td>Gasoline</td>\n",
       "      <td>CA</td>\n",
       "      <td>U2</td>\n",
       "      <td>8HNXT03.7PKR</td>\n",
       "      <td>SUV</td>\n",
       "      <td>7</td>\n",
       "      <td>Drv</td>\n",
       "      <td>15</td>\n",
       "      <td>20</td>\n",
       "      <td>17</td>\n",
       "      <td>22.0527</td>\n",
       "      <td>4</td>\n",
       "      <td>no</td>\n",
       "    </tr>\n",
       "    <tr>\n",
       "      <th>1</th>\n",
       "      <td>ACURA MDX</td>\n",
       "      <td>3.7</td>\n",
       "      <td>(6 cyl)</td>\n",
       "      <td>Auto-S5</td>\n",
       "      <td>4WD</td>\n",
       "      <td>Gasoline</td>\n",
       "      <td>FA</td>\n",
       "      <td>B5</td>\n",
       "      <td>8HNXT03.7PKR</td>\n",
       "      <td>SUV</td>\n",
       "      <td>6</td>\n",
       "      <td>Drv</td>\n",
       "      <td>15</td>\n",
       "      <td>20</td>\n",
       "      <td>17</td>\n",
       "      <td>22.0527</td>\n",
       "      <td>4</td>\n",
       "      <td>no</td>\n",
       "    </tr>\n",
       "    <tr>\n",
       "      <th>2</th>\n",
       "      <td>ACURA RDX</td>\n",
       "      <td>2.3</td>\n",
       "      <td>(4 cyl)</td>\n",
       "      <td>Auto-S5</td>\n",
       "      <td>4WD</td>\n",
       "      <td>Gasoline</td>\n",
       "      <td>CA</td>\n",
       "      <td>U2</td>\n",
       "      <td>8HNXT02.3DKR</td>\n",
       "      <td>SUV</td>\n",
       "      <td>7</td>\n",
       "      <td>Drv</td>\n",
       "      <td>17</td>\n",
       "      <td>22</td>\n",
       "      <td>19</td>\n",
       "      <td>24.1745</td>\n",
       "      <td>5</td>\n",
       "      <td>no</td>\n",
       "    </tr>\n",
       "  </tbody>\n",
       "</table>\n",
       "</div>"
      ],
      "text/plain": [
       "       Model  Displ      Cyl    Trans Drive      Fuel Sales Area Stnd  \\\n",
       "0  ACURA MDX    3.7  (6 cyl)  Auto-S5   4WD  Gasoline         CA   U2   \n",
       "1  ACURA MDX    3.7  (6 cyl)  Auto-S5   4WD  Gasoline         FA   B5   \n",
       "2  ACURA RDX    2.3  (4 cyl)  Auto-S5   4WD  Gasoline         CA   U2   \n",
       "\n",
       "   Underhood ID Veh Class Air Pollution Score FE Calc Appr City MPG Hwy MPG  \\\n",
       "0  8HNXT03.7PKR       SUV                   7          Drv       15      20   \n",
       "1  8HNXT03.7PKR       SUV                   6          Drv       15      20   \n",
       "2  8HNXT02.3DKR       SUV                   7          Drv       17      22   \n",
       "\n",
       "  Cmb MPG  Unadj Cmb MPG Greenhouse Gas Score SmartWay  \n",
       "0      17        22.0527                    4       no  \n",
       "1      17        22.0527                    4       no  \n",
       "2      19        24.1745                    5       no  "
      ]
     },
     "execution_count": 660,
     "metadata": {},
     "output_type": "execute_result"
    }
   ],
   "source": [
    "df08.head(3)"
   ]
  },
  {
   "cell_type": "code",
   "execution_count": 661,
   "metadata": {},
   "outputs": [
    {
     "data": {
      "text/html": [
       "<div>\n",
       "<style scoped>\n",
       "    .dataframe tbody tr th:only-of-type {\n",
       "        vertical-align: middle;\n",
       "    }\n",
       "\n",
       "    .dataframe tbody tr th {\n",
       "        vertical-align: top;\n",
       "    }\n",
       "\n",
       "    .dataframe thead th {\n",
       "        text-align: right;\n",
       "    }\n",
       "</style>\n",
       "<table border=\"1\" class=\"dataframe\">\n",
       "  <thead>\n",
       "    <tr style=\"text-align: right;\">\n",
       "      <th></th>\n",
       "      <th>Model</th>\n",
       "      <th>Displ</th>\n",
       "      <th>Cyl</th>\n",
       "      <th>Trans</th>\n",
       "      <th>Drive</th>\n",
       "      <th>Fuel</th>\n",
       "      <th>Cert Region</th>\n",
       "      <th>Stnd</th>\n",
       "      <th>Stnd Description</th>\n",
       "      <th>Underhood ID</th>\n",
       "      <th>Veh Class</th>\n",
       "      <th>Air Pollution Score</th>\n",
       "      <th>City MPG</th>\n",
       "      <th>Hwy MPG</th>\n",
       "      <th>Cmb MPG</th>\n",
       "      <th>Greenhouse Gas Score</th>\n",
       "      <th>SmartWay</th>\n",
       "      <th>Comb CO2</th>\n",
       "    </tr>\n",
       "  </thead>\n",
       "  <tbody>\n",
       "    <tr>\n",
       "      <th>0</th>\n",
       "      <td>ACURA ILX</td>\n",
       "      <td>2.4</td>\n",
       "      <td>4.0</td>\n",
       "      <td>AMS-8</td>\n",
       "      <td>2WD</td>\n",
       "      <td>Gasoline</td>\n",
       "      <td>CA</td>\n",
       "      <td>L3ULEV125</td>\n",
       "      <td>California LEV-III ULEV125</td>\n",
       "      <td>JHNXV02.4NH3</td>\n",
       "      <td>small car</td>\n",
       "      <td>3</td>\n",
       "      <td>25</td>\n",
       "      <td>35</td>\n",
       "      <td>29</td>\n",
       "      <td>6</td>\n",
       "      <td>No</td>\n",
       "      <td>309</td>\n",
       "    </tr>\n",
       "    <tr>\n",
       "      <th>1</th>\n",
       "      <td>ACURA ILX</td>\n",
       "      <td>2.4</td>\n",
       "      <td>4.0</td>\n",
       "      <td>AMS-8</td>\n",
       "      <td>2WD</td>\n",
       "      <td>Gasoline</td>\n",
       "      <td>FA</td>\n",
       "      <td>T3B125</td>\n",
       "      <td>Federal Tier 3 Bin 125</td>\n",
       "      <td>JHNXV02.4NH3</td>\n",
       "      <td>small car</td>\n",
       "      <td>3</td>\n",
       "      <td>25</td>\n",
       "      <td>35</td>\n",
       "      <td>29</td>\n",
       "      <td>6</td>\n",
       "      <td>No</td>\n",
       "      <td>309</td>\n",
       "    </tr>\n",
       "    <tr>\n",
       "      <th>2</th>\n",
       "      <td>ACURA MDX</td>\n",
       "      <td>3.0</td>\n",
       "      <td>6.0</td>\n",
       "      <td>AMS-7</td>\n",
       "      <td>4WD</td>\n",
       "      <td>Gasoline</td>\n",
       "      <td>CA</td>\n",
       "      <td>L3ULEV125</td>\n",
       "      <td>California LEV-III ULEV125</td>\n",
       "      <td>JHNXV03.08H3</td>\n",
       "      <td>small SUV</td>\n",
       "      <td>3</td>\n",
       "      <td>26</td>\n",
       "      <td>27</td>\n",
       "      <td>27</td>\n",
       "      <td>6</td>\n",
       "      <td>No</td>\n",
       "      <td>330</td>\n",
       "    </tr>\n",
       "  </tbody>\n",
       "</table>\n",
       "</div>"
      ],
      "text/plain": [
       "       Model  Displ  Cyl  Trans Drive      Fuel Cert Region       Stnd  \\\n",
       "0  ACURA ILX    2.4  4.0  AMS-8   2WD  Gasoline          CA  L3ULEV125   \n",
       "1  ACURA ILX    2.4  4.0  AMS-8   2WD  Gasoline          FA     T3B125   \n",
       "2  ACURA MDX    3.0  6.0  AMS-7   4WD  Gasoline          CA  L3ULEV125   \n",
       "\n",
       "             Stnd Description  Underhood ID  Veh Class  Air Pollution Score  \\\n",
       "0  California LEV-III ULEV125  JHNXV02.4NH3  small car                    3   \n",
       "1      Federal Tier 3 Bin 125  JHNXV02.4NH3  small car                    3   \n",
       "2  California LEV-III ULEV125  JHNXV03.08H3  small SUV                    3   \n",
       "\n",
       "  City MPG Hwy MPG Cmb MPG  Greenhouse Gas Score SmartWay Comb CO2  \n",
       "0       25      35      29                     6       No      309  \n",
       "1       25      35      29                     6       No      309  \n",
       "2       26      27      27                     6       No      330  "
      ]
     },
     "execution_count": 661,
     "metadata": {},
     "output_type": "execute_result"
    }
   ],
   "source": [
    "df18.head(3)"
   ]
  },
  {
   "cell_type": "markdown",
   "metadata": {},
   "source": [
    "1.每个数据集中的样本数\n",
    "\n",
    "2.每个数据集中的列数"
   ]
  },
  {
   "cell_type": "code",
   "execution_count": 662,
   "metadata": {},
   "outputs": [
    {
     "name": "stdout",
     "output_type": "stream",
     "text": [
      "(2404, 18)\n",
      "(2648, 18)\n"
     ]
    }
   ],
   "source": [
    "print(df08.shape)\n",
    "print(df18.shape)"
   ]
  },
  {
   "cell_type": "markdown",
   "metadata": {},
   "source": [
    "3.每个数据集中重复的行数"
   ]
  },
  {
   "cell_type": "code",
   "execution_count": 663,
   "metadata": {},
   "outputs": [
    {
     "name": "stdout",
     "output_type": "stream",
     "text": [
      "25 0\n"
     ]
    }
   ],
   "source": [
    "sum_dup_08 = sum(df08.duplicated())\n",
    "sum_dup_18 = sum(df18.duplicated())\n",
    "print(sum_dup_08,sum_dup_18)"
   ]
  },
  {
   "cell_type": "markdown",
   "metadata": {},
   "source": [
    "4.列的数据类型"
   ]
  },
  {
   "cell_type": "code",
   "execution_count": 664,
   "metadata": {},
   "outputs": [
    {
     "data": {
      "text/plain": [
       "Model                    object\n",
       "Displ                   float64\n",
       "Cyl                      object\n",
       "Trans                    object\n",
       "Drive                    object\n",
       "Fuel                     object\n",
       "Sales Area               object\n",
       "Stnd                     object\n",
       "Underhood ID             object\n",
       "Veh Class                object\n",
       "Air Pollution Score      object\n",
       "FE Calc Appr             object\n",
       "City MPG                 object\n",
       "Hwy MPG                  object\n",
       "Cmb MPG                  object\n",
       "Unadj Cmb MPG           float64\n",
       "Greenhouse Gas Score     object\n",
       "SmartWay                 object\n",
       "dtype: object"
      ]
     },
     "execution_count": 664,
     "metadata": {},
     "output_type": "execute_result"
    }
   ],
   "source": [
    "df08.dtypes"
   ]
  },
  {
   "cell_type": "markdown",
   "metadata": {},
   "source": [
    "5.具有缺失值的特征"
   ]
  },
  {
   "cell_type": "code",
   "execution_count": 665,
   "metadata": {},
   "outputs": [
    {
     "data": {
      "text/plain": [
       "['Cyl',\n",
       " 'Trans',\n",
       " 'Drive',\n",
       " 'FE Calc Appr',\n",
       " 'City MPG',\n",
       " 'Hwy MPG',\n",
       " 'Cmb MPG',\n",
       " 'Unadj Cmb MPG',\n",
       " 'Greenhouse Gas Score']"
      ]
     },
     "execution_count": 665,
     "metadata": {},
     "output_type": "execute_result"
    }
   ],
   "source": [
    "null_list = []\n",
    "for i in df08.columns:\n",
    "    if df08[i].isnull().any():\n",
    "        null_list.append(i)\n",
    "null_list\n",
    "# 使用判断把空置输出为一列"
   ]
  },
  {
   "cell_type": "code",
   "execution_count": 666,
   "metadata": {},
   "outputs": [
    {
     "data": {
      "text/plain": [
       "Model                     0\n",
       "Displ                     0\n",
       "Cyl                     199\n",
       "Trans                   199\n",
       "Drive                    93\n",
       "Fuel                      0\n",
       "Sales Area                0\n",
       "Stnd                      0\n",
       "Underhood ID              0\n",
       "Veh Class                 0\n",
       "Air Pollution Score       0\n",
       "FE Calc Appr            199\n",
       "City MPG                199\n",
       "Hwy MPG                 199\n",
       "Cmb MPG                 199\n",
       "Unadj Cmb MPG           199\n",
       "Greenhouse Gas Score    199\n",
       "SmartWay                  0\n",
       "dtype: int64"
      ]
     },
     "execution_count": 666,
     "metadata": {},
     "output_type": "execute_result"
    }
   ],
   "source": [
    "# 使用isnull.sum检查数量\n",
    "nucheck = df08.isnull().sum()\n",
    "nucheck"
   ]
  },
  {
   "cell_type": "code",
   "execution_count": 667,
   "metadata": {},
   "outputs": [
    {
     "data": {
      "text/plain": [
       "Model                     0\n",
       "Displ                     0\n",
       "Cyl                     199\n",
       "Trans                   199\n",
       "Drive                    93\n",
       "Fuel                      0\n",
       "Sales Area                0\n",
       "Stnd                      0\n",
       "Underhood ID              0\n",
       "Veh Class                 0\n",
       "Air Pollution Score       0\n",
       "FE Calc Appr            199\n",
       "City MPG                199\n",
       "Hwy MPG                 199\n",
       "Cmb MPG                 199\n",
       "Unadj Cmb MPG           199\n",
       "Greenhouse Gas Score    199\n",
       "SmartWay                  0\n",
       "dtype: int64"
      ]
     },
     "execution_count": 667,
     "metadata": {},
     "output_type": "execute_result"
    }
   ],
   "source": [
    "# 看下占的百分比\n",
    "nucheck/df08.shape[0]\n",
    "nucheck"
   ]
  },
  {
   "cell_type": "markdown",
   "metadata": {},
   "source": [
    "6.每个数据集中特征的非空唯一值的数量"
   ]
  },
  {
   "cell_type": "code",
   "execution_count": 668,
   "metadata": {},
   "outputs": [
    {
     "name": "stdout",
     "output_type": "stream",
     "text": [
      "Model     436\n",
      "Displ     47\n",
      "Cyl     8\n",
      "Trans     14\n",
      "Drive     2\n",
      "Fuel     5\n",
      "Sales Area     3\n",
      "Stnd     12\n",
      "Underhood ID     343\n",
      "Veh Class     9\n",
      "Air Pollution Score     13\n",
      "FE Calc Appr     2\n",
      "City MPG     39\n",
      "Hwy MPG     43\n",
      "Cmb MPG     38\n",
      "Unadj Cmb MPG     721\n",
      "Greenhouse Gas Score     20\n",
      "SmartWay     2\n"
     ]
    }
   ],
   "source": [
    "for i in df08.columns:\n",
    "    print(i, end = '     ')\n",
    "    print(df08[i].nunique())\n",
    "# 可以使用格式化字符串来更好的显示，略过"
   ]
  },
  {
   "cell_type": "code",
   "execution_count": 669,
   "metadata": {},
   "outputs": [],
   "source": [
    "# 这些唯一值都是什么，以及每个的计数"
   ]
  },
  {
   "cell_type": "code",
   "execution_count": 670,
   "metadata": {},
   "outputs": [
    {
     "name": "stdout",
     "output_type": "stream",
     "text": [
      "\n",
      " Displ :\n",
      "3.5    194\n",
      "2.4    184\n",
      "2.5    171\n",
      "3.0    158\n",
      "2.0    132\n",
      "3.6    110\n",
      "5.3    108\n",
      "6.0    103\n",
      "3.7     86\n",
      "5.4     81\n",
      "4.0     80\n",
      "4.6     80\n",
      "4.8     74\n",
      "2.3     71\n",
      "2.7     68\n",
      "3.8     62\n",
      "5.7     59\n",
      "4.2     57\n",
      "4.7     45\n",
      "6.2     41\n",
      "1.8     36\n",
      "3.2     34\n",
      "2.2     30\n",
      "5.5     30\n",
      "5.0     29\n",
      "3.3     24\n",
      "1.6     24\n",
      "2.9     24\n",
      "4.3     22\n",
      "5.6     20\n",
      "3.1     18\n",
      "4.4     16\n",
      "3.4     16\n",
      "6.7     14\n",
      "6.8     13\n",
      "1.5     12\n",
      "6.1     12\n",
      "5.9     12\n",
      "2.8     12\n",
      "6.5     10\n",
      "3.9      8\n",
      "4.5      6\n",
      "1.3      6\n",
      "8.4      4\n",
      "5.2      4\n",
      "7.0      2\n",
      "8.0      2\n",
      "Name: Displ, dtype: int64\n",
      "\n",
      " Cyl :\n",
      "(6 cyl)     864\n",
      "(4 cyl)     600\n",
      "(8 cyl)     533\n",
      "(5 cyl)     113\n",
      "(12 cyl)     60\n",
      "(10 cyl)     29\n",
      "(2 cyl)       4\n",
      "(16 cyl)      2\n",
      "Name: Cyl, dtype: int64\n",
      "\n",
      " Trans :\n",
      "Auto-L4    502\n",
      "Auto-L5    329\n",
      "Auto-S6    327\n",
      "Man-6      295\n",
      "Man-5      269\n",
      "Auto-S5    147\n",
      "Auto-L6    118\n",
      "Auto-AV     86\n",
      "Auto-L7     42\n",
      "Auto-S4     42\n",
      "Auto-S7     22\n",
      "Auto-4      10\n",
      "S8           8\n",
      "Auto-6       8\n",
      "Name: Trans, dtype: int64\n",
      "\n",
      " Drive :\n",
      "2WD    1525\n",
      "4WD     786\n",
      "Name: Drive, dtype: int64\n",
      "\n",
      " Fuel :\n",
      "Gasoline       2318\n",
      "ethanol/gas      72\n",
      "diesel           11\n",
      "CNG               2\n",
      "ethanol           1\n",
      "Name: Fuel, dtype: int64\n",
      "\n",
      " Sales Area :\n",
      "FA    1157\n",
      "CA    1084\n",
      "FC     163\n",
      "Name: Sales Area, dtype: int64\n",
      "\n",
      " Stnd :\n",
      "B5      990\n",
      "L2      556\n",
      "U2      428\n",
      "B4      125\n",
      "B8       95\n",
      "HDV      84\n",
      "S2       76\n",
      "B2       16\n",
      "B3       15\n",
      "SLEV     11\n",
      "B10       6\n",
      "LEV       2\n",
      "Name: Stnd, dtype: int64\n",
      "\n",
      " Underhood ID :\n",
      "8GMXK06.0389    48\n",
      "8BMXB03.0N52    46\n",
      "8GMXT05.3384    46\n",
      "8BMXV03.0N54    32\n",
      "8VVXV02.5U2T    32\n",
      "8ADXV02.0366    28\n",
      "8GMXK06.0396    28\n",
      "8FJXB02.5PYH    26\n",
      "8GMXT06.2382    26\n",
      "8GMXB03.6148    24\n",
      "8GMXV02.4025    24\n",
      "8CRXT03.7NE0    24\n",
      "8GMXT05.3373    20\n",
      "8PRXV03.8997    20\n",
      "8GMXV02.3001    20\n",
      "8GMXT03.6151    20\n",
      "8CRXB02.4ME0    20\n",
      "8CRXT05.7PE0    20\n",
      "8VWXV02.5257    20\n",
      "8MBXV06.0L2A    20\n",
      "8FJXB02.5MXG    20\n",
      "8TYXT03.5BEM    20\n",
      "8NSXT04.0G6A    20\n",
      "8VWXV02.5253    20\n",
      "8PRXV03.4C87    20\n",
      "8CRXT03.7PE0    19\n",
      "8TYXT04.0AEM    18\n",
      "8ADXV03.1374    18\n",
      "8GMXT06.2394    18\n",
      "8GMXT04.3186    16\n",
      "                ..\n",
      "8HYXV03.3TW5     2\n",
      "8ADXV02.0352     2\n",
      "8NSXT02.585A     2\n",
      "8FMXT05.43DP     2\n",
      "8BGTV08.0V16     2\n",
      "8TYXV01.5HC3     2\n",
      "8HYXV03.3FW5     2\n",
      "8FMXT04.23A4     2\n",
      "8VWXT05.0375     1\n",
      "8TYXV02.4HX2     1\n",
      "8KMXV02.0LPC     1\n",
      "8TKXV02.3NH2     1\n",
      "8DSXV02.4GRG     1\n",
      "8GMXT05.3377     1\n",
      "8GMXT02.4135     1\n",
      "8FMXT05.44E2     1\n",
      "8NSXV02.5G3A     1\n",
      "8DSXV02.4G6G     1\n",
      "8GMXT05.3376     1\n",
      "8GMXT03.9140     1\n",
      "8TKXV02.3NF1     1\n",
      "8GMXT04.2188     1\n",
      "8HYXV02.0HPC     1\n",
      "8S3XT05.4IBB     1\n",
      "8FMXT06.85HR     1\n",
      "8GMXT02.4124     1\n",
      "8TKXV02.35NN     1\n",
      "8FMXT05.43HP     1\n",
      "8MBXV03.0BN8     1\n",
      "8GMXT02.4123     1\n",
      "Name: Underhood ID, Length: 343, dtype: int64\n",
      "\n",
      " Veh Class :\n",
      "small car          692\n",
      "SUV                648\n",
      "pickup             350\n",
      "midsize car        276\n",
      "van                129\n",
      "large car          129\n",
      "station wagon      123\n",
      "minivan             37\n",
      "special purpose     20\n",
      "Name: Veh Class, dtype: int64\n",
      "\n",
      " Air Pollution Score :\n",
      "6      1471\n",
      "7       521\n",
      "2       112\n",
      "3        85\n",
      "9.5      80\n",
      "6/6      32\n",
      "3/3      27\n",
      "9        23\n",
      "1        22\n",
      "8        15\n",
      "7/7      12\n",
      "0         3\n",
      "6/4       1\n",
      "Name: Air Pollution Score, dtype: int64\n",
      "\n",
      " FE Calc Appr :\n",
      "Drv    2175\n",
      "5cy      30\n",
      "Name: FE Calc Appr, dtype: int64\n",
      "\n",
      " City MPG :\n",
      "17       233\n",
      "16       216\n",
      "15       213\n",
      "20       195\n",
      "19       182\n",
      "18       180\n",
      "14       172\n",
      "13       160\n",
      "12       135\n",
      "21       122\n",
      "22        88\n",
      "23        45\n",
      "24        42\n",
      "11        35\n",
      "10        28\n",
      "11/14     20\n",
      "26        16\n",
      "25        16\n",
      "27        16\n",
      "9         12\n",
      "29        10\n",
      "9/12      10\n",
      "9/14       9\n",
      "9/13       7\n",
      "34         6\n",
      "8          6\n",
      "11/15      6\n",
      "13/18      4\n",
      "28         4\n",
      "10/13      3\n",
      "40         2\n",
      "33         2\n",
      "13/19      2\n",
      "10/14      2\n",
      "48         2\n",
      "12/16      1\n",
      "35         1\n",
      "14/18      1\n",
      "11/17      1\n",
      "Name: City MPG, dtype: int64\n",
      "\n",
      " Hwy MPG :\n",
      "24       241\n",
      "20       174\n",
      "25       169\n",
      "26       167\n",
      "28       148\n",
      "19       144\n",
      "22       143\n",
      "18       126\n",
      "27       123\n",
      "23       106\n",
      "17        99\n",
      "29        99\n",
      "31        76\n",
      "30        66\n",
      "16        59\n",
      "21        58\n",
      "32        35\n",
      "33        34\n",
      "15        21\n",
      "14/19     14\n",
      "34        12\n",
      "15/20     12\n",
      "35        11\n",
      "14        10\n",
      "12/17      8\n",
      "12/19      7\n",
      "12/16      6\n",
      "36         6\n",
      "13         6\n",
      "45         4\n",
      "37         2\n",
      "13/17      2\n",
      "12/18      2\n",
      "20/27      2\n",
      "16/23      2\n",
      "13/19      2\n",
      "19/25      2\n",
      "13/18      2\n",
      "19/26      1\n",
      "21/29      1\n",
      "17/24      1\n",
      "20/28      1\n",
      "17/23      1\n",
      "Name: Hwy MPG, dtype: int64\n",
      "\n",
      " Cmb MPG :\n",
      "20       215\n",
      "22       211\n",
      "19       196\n",
      "18       183\n",
      "21       166\n",
      "15       164\n",
      "14       156\n",
      "16       144\n",
      "17       139\n",
      "24       134\n",
      "23       119\n",
      "25        73\n",
      "26        46\n",
      "13        34\n",
      "27        34\n",
      "12        30\n",
      "28        28\n",
      "29        24\n",
      "12/16     20\n",
      "10/15     15\n",
      "11        14\n",
      "10/14     11\n",
      "32         8\n",
      "31         6\n",
      "10         6\n",
      "13/17      4\n",
      "11/15      3\n",
      "16/22      3\n",
      "34         3\n",
      "15/21      3\n",
      "42         2\n",
      "30         2\n",
      "13/18      2\n",
      "12/15      2\n",
      "46         2\n",
      "13/19      1\n",
      "16/21      1\n",
      "14/19      1\n",
      "Name: Cmb MPG, dtype: int64\n",
      "\n",
      " Unadj Cmb MPG :\n",
      "13.8612    16\n",
      "18.9273    16\n",
      "27.7684    14\n",
      "29.2274    14\n",
      "31.1162    12\n",
      "28.6009    12\n",
      "24.3604    12\n",
      "26.2843    12\n",
      "12.9000    10\n",
      "19.5000    10\n",
      "29.3687    10\n",
      "19.0126    10\n",
      "27.3126    10\n",
      "24.8679     9\n",
      "19.9678     9\n",
      "35.9566     9\n",
      "18.9287     9\n",
      "33.7076     9\n",
      "25.8136     8\n",
      "16.4338     8\n",
      "14.8322     8\n",
      "13.8375     8\n",
      "25.8212     8\n",
      "12.2796     8\n",
      "28.8034     8\n",
      "24.2241     8\n",
      "25.3086     8\n",
      "27.5143     8\n",
      "15.2051     8\n",
      "32.5709     8\n",
      "           ..\n",
      "19.2186     1\n",
      "26.5701     1\n",
      "26.0747     1\n",
      "18.3969     1\n",
      "21.8924     1\n",
      "26.0000     1\n",
      "25.8697     1\n",
      "34.6809     1\n",
      "18.9358     1\n",
      "26.9756     1\n",
      "24.4810     1\n",
      "16.1362     1\n",
      "26.8962     1\n",
      "21.6747     1\n",
      "16.5908     1\n",
      "26.8575     1\n",
      "12.9349     1\n",
      "25.1000     1\n",
      "46.7098     1\n",
      "13.7631     1\n",
      "19.4531     1\n",
      "25.8353     1\n",
      "21.1376     1\n",
      "22.5424     1\n",
      "12.7142     1\n",
      "13.2223     1\n",
      "26.1804     1\n",
      "20.4407     1\n",
      "36.7250     1\n",
      "12.8322     1\n",
      "Name: Unadj Cmb MPG, Length: 721, dtype: int64\n",
      "\n",
      " Greenhouse Gas Score :\n",
      "6      589\n",
      "5      380\n",
      "7      327\n",
      "4      285\n",
      "3      165\n",
      "2      156\n",
      "8      131\n",
      "0       50\n",
      "1       33\n",
      "6/4     24\n",
      "9       19\n",
      "4/3     15\n",
      "4/2     11\n",
      "10       4\n",
      "8/6      4\n",
      "7/6      3\n",
      "6/5      3\n",
      "5/3      3\n",
      "6/3      2\n",
      "7/5      1\n",
      "Name: Greenhouse Gas Score, dtype: int64\n",
      "\n",
      " SmartWay :\n",
      "no     1766\n",
      "yes     638\n",
      "Name: SmartWay, dtype: int64\n"
     ]
    }
   ],
   "source": [
    "# 加上value_counts 看下（车型较多有400多种）\n",
    "# 使用[1:]将车型过滤掉\n",
    "for i in df08.columns[1:]:\n",
    "    print('\\n', i, ':')\n",
    "    print(df08[i].value_counts())"
   ]
  },
  {
   "cell_type": "markdown",
   "metadata": {},
   "source": [
    "# /6清理列标签/ 清除列标签\n",
    "使用 all_alpha_08.csv 和 all_alpha_18.csv"
   ]
  },
  {
   "cell_type": "code",
   "execution_count": 671,
   "metadata": {},
   "outputs": [
    {
     "name": "stdout",
     "output_type": "stream",
     "text": [
      "(2404, 18)\n"
     ]
    },
    {
     "data": {
      "text/plain": [
       "Index(['Model', 'Displ', 'Cyl', 'Trans', 'Drive', 'Fuel', 'Sales Area', 'Stnd',\n",
       "       'Underhood ID', 'Veh Class', 'Air Pollution Score', 'FE Calc Appr',\n",
       "       'City MPG', 'Hwy MPG', 'Cmb MPG', 'Unadj Cmb MPG',\n",
       "       'Greenhouse Gas Score', 'SmartWay'],\n",
       "      dtype='object')"
      ]
     },
     "execution_count": 671,
     "metadata": {},
     "output_type": "execute_result"
    }
   ],
   "source": [
    "#先检查下原有数据\n",
    "print(df08.shape)\n",
    "df08.columns"
   ]
  },
  {
   "cell_type": "code",
   "execution_count": 672,
   "metadata": {},
   "outputs": [
    {
     "name": "stdout",
     "output_type": "stream",
     "text": [
      "(2404, 14)\n"
     ]
    },
    {
     "data": {
      "text/plain": [
       "Index(['Model', 'Displ', 'Cyl', 'Trans', 'Drive', 'Fuel', 'Sales Area',\n",
       "       'Veh Class', 'Air Pollution Score', 'City MPG', 'Hwy MPG', 'Cmb MPG',\n",
       "       'Greenhouse Gas Score', 'SmartWay'],\n",
       "      dtype='object')"
      ]
     },
     "execution_count": 672,
     "metadata": {},
     "output_type": "execute_result"
    }
   ],
   "source": [
    "# 丢弃多余列\n",
    "drop_list = ['Stnd', 'Underhood ID', 'FE Calc Appr', 'Unadj Cmb MPG']\n",
    "df08.drop(drop_list, axis=1, inplace=True)\n",
    "print(df08.shape)\n",
    "df08.columns"
   ]
  },
  {
   "cell_type": "code",
   "execution_count": 673,
   "metadata": {},
   "outputs": [
    {
     "name": "stdout",
     "output_type": "stream",
     "text": [
      "(2404, 14)\n"
     ]
    },
    {
     "data": {
      "text/plain": [
       "Index(['Model', 'Displ', 'Cyl', 'Trans', 'Drive', 'Fuel', 'Cert Region',\n",
       "       'Veh Class', 'Air Pollution Score', 'City MPG', 'Hwy MPG', 'Cmb MPG',\n",
       "       'Greenhouse Gas Score', 'SmartWay'],\n",
       "      dtype='object')"
      ]
     },
     "execution_count": 673,
     "metadata": {},
     "output_type": "execute_result"
    }
   ],
   "source": [
    "drop_list = ['Stnd','Stnd Description','Underhood ID','Comb CO2']\n",
    "df18.drop(drop_list, axis=1, inplace=True)\n",
    "print(df08.shape)\n",
    "df18.columns"
   ]
  },
  {
   "cell_type": "code",
   "execution_count": 674,
   "metadata": {},
   "outputs": [
    {
     "data": {
      "text/plain": [
       "array([ True,  True,  True,  True,  True,  True, False,  True,  True,\n",
       "        True,  True,  True,  True,  True])"
      ]
     },
     "execution_count": 674,
     "metadata": {},
     "output_type": "execute_result"
    }
   ],
   "source": [
    "# 先检查一下有没有列不同的\n",
    "df08.columns == df18.columns"
   ]
  },
  {
   "cell_type": "code",
   "execution_count": 675,
   "metadata": {},
   "outputs": [
    {
     "name": "stdout",
     "output_type": "stream",
     "text": [
      "Sales Area\n",
      "Cert Region\n"
     ]
    }
   ],
   "source": [
    "# 把列的名字得出来\n",
    "for i in df08.columns:\n",
    "    if i not in df18.columns:\n",
    "        print(i)\n",
    "        \n",
    "for i in df18.columns:\n",
    "    if i not in df08.columns:\n",
    "        print(i)      "
   ]
  },
  {
   "cell_type": "code",
   "execution_count": 676,
   "metadata": {},
   "outputs": [],
   "source": [
    "# 将08的替换为18的\n",
    "df08.rename(columns = \n",
    "            lambda x: x.replace('Sales Area', 'Cert Region'), \n",
    "            inplace = True)\n",
    "# 这里使用的是lambda x:\n",
    "# 就是对columns执行后面的操作 x.replace\n",
    "# 而x.replace的操作是把后面小括弧中的前面替换成后面"
   ]
  },
  {
   "cell_type": "code",
   "execution_count": 677,
   "metadata": {},
   "outputs": [
    {
     "data": {
      "text/plain": [
       "Index(['model', 'displ', 'cyl', 'trans', 'drive', 'fuel', 'cert_region',\n",
       "       'veh_class', 'air_pollution_score', 'city_mpg', 'hwy_mpg', 'cmb_mpg',\n",
       "       'greenhouse_gas_score', 'smartway'],\n",
       "      dtype='object')"
      ]
     },
     "execution_count": 677,
     "metadata": {},
     "output_type": "execute_result"
    }
   ],
   "source": [
    "# 还有就是把列中的空格替换成下滑线\n",
    "# 因为很多处理要对空格判断，不要有比较好\n",
    "# 全部变为小写是习惯，了解一下吧\n",
    "df08.rename(columns=lambda x:\n",
    "             x.strip().lower().replace(\" \", \"_\"),\n",
    "             inplace=True)\n",
    "# .strip是去除单词首尾的空格\n",
    "# .lower是变为小写\n",
    "# .replace是把小括弧里的做替换\n",
    "df08.columns"
   ]
  },
  {
   "cell_type": "code",
   "execution_count": 678,
   "metadata": {},
   "outputs": [
    {
     "data": {
      "text/plain": [
       "array([ True,  True,  True,  True,  True,  True,  True,  True,  True,\n",
       "        True,  True,  True,  True,  True])"
      ]
     },
     "execution_count": 678,
     "metadata": {},
     "output_type": "execute_result"
    }
   ],
   "source": [
    "# df18 也做一遍，再检查列是否一致\n",
    "df18.rename(columns=lambda x:\n",
    "             x.strip().lower().replace(\" \", \"_\"),\n",
    "             inplace=True)\n",
    "df18.columns\n",
    "df08.columns == df18.columns"
   ]
  },
  {
   "cell_type": "code",
   "execution_count": 679,
   "metadata": {},
   "outputs": [
    {
     "data": {
      "text/plain": [
       "True"
      ]
     },
     "execution_count": 679,
     "metadata": {},
     "output_type": "execute_result"
    }
   ],
   "source": [
    "# 也可以用这个，比较安静的\n",
    "(df08.columns == df18.columns).all()"
   ]
  },
  {
   "cell_type": "code",
   "execution_count": 680,
   "metadata": {},
   "outputs": [],
   "source": [
    "# 保存数据\n",
    "df08.to_csv('data_08.csv', index=False)\n",
    "df18.to_csv('data_18.csv', index=False)"
   ]
  },
  {
   "cell_type": "markdown",
   "metadata": {},
   "source": [
    "# /7过滤、丢空、去重/ 过滤、丢弃空值、重复数据删除\n",
    "使用 data_08.csv 和 data_18.csv"
   ]
  },
  {
   "cell_type": "code",
   "execution_count": 681,
   "metadata": {},
   "outputs": [
    {
     "name": "stdout",
     "output_type": "stream",
     "text": [
      "(2648, 14)\n",
      "(1307, 14)\n",
      "['CA']\n",
      "(1307, 13)\n",
      "<class 'pandas.core.frame.DataFrame'>\n",
      "Int64Index: 1307 entries, 0 to 2646\n",
      "Data columns (total 13 columns):\n",
      "model                   1307 non-null object\n",
      "displ                   1292 non-null float64\n",
      "cyl                     1292 non-null float64\n",
      "trans                   1307 non-null object\n",
      "drive                   1307 non-null object\n",
      "fuel                    1307 non-null object\n",
      "veh_class               1307 non-null object\n",
      "air_pollution_score     1307 non-null int64\n",
      "city_mpg                1307 non-null object\n",
      "hwy_mpg                 1307 non-null object\n",
      "cmb_mpg                 1307 non-null object\n",
      "greenhouse_gas_score    1307 non-null int64\n",
      "smartway                1307 non-null object\n",
      "dtypes: float64(2), int64(2), object(9)\n",
      "memory usage: 143.0+ KB\n",
      "(2404, 14)\n",
      "(1084, 14)\n",
      "['CA']\n",
      "(1084, 13)\n",
      "<class 'pandas.core.frame.DataFrame'>\n",
      "Int64Index: 1084 entries, 0 to 2400\n",
      "Data columns (total 13 columns):\n",
      "model                   1084 non-null object\n",
      "displ                   1084 non-null float64\n",
      "cyl                     1009 non-null object\n",
      "trans                   1009 non-null object\n",
      "drive                   1047 non-null object\n",
      "fuel                    1084 non-null object\n",
      "veh_class               1084 non-null object\n",
      "air_pollution_score     1084 non-null object\n",
      "city_mpg                1009 non-null object\n",
      "hwy_mpg                 1009 non-null object\n",
      "cmb_mpg                 1009 non-null object\n",
      "greenhouse_gas_score    1009 non-null object\n",
      "smartway                1084 non-null object\n",
      "dtypes: float64(1), object(12)\n",
      "memory usage: 118.6+ KB\n"
     ]
    },
    {
     "name": "stderr",
     "output_type": "stream",
     "text": [
      "/usr/local/anaconda3/lib/python3.6/site-packages/pandas/core/frame.py:3694: SettingWithCopyWarning: \n",
      "A value is trying to be set on a copy of a slice from a DataFrame\n",
      "\n",
      "See the caveats in the documentation: http://pandas.pydata.org/pandas-docs/stable/indexing.html#indexing-view-versus-copy\n",
      "  errors=errors)\n"
     ]
    }
   ],
   "source": [
    "# 按认证区域过滤09\n",
    "def cleancol(df):\n",
    "    print(df.shape)\n",
    "    df['cert_region'].unique()\n",
    "    df = df.query('cert_region == \"CA\"')\n",
    "    print(df.shape)      \n",
    "    print(df['cert_region'].unique())\n",
    "    df.drop(['cert_region'],axis=1,inplace=True)\n",
    "    print(df.shape) \n",
    "    return df.info()\n",
    "\n",
    "\n",
    "cleancol(df18)\n",
    "cleancol(df08)\n",
    "# 此cell如果执行多遍会有问题因为已经drop了cert_region\n",
    "# 少年，要不要使用try/except优化了？\n",
    "# 另外后面有个报错，怎么优化呢？"
   ]
  },
  {
   "cell_type": "code",
   "execution_count": 682,
   "metadata": {},
   "outputs": [
    {
     "name": "stdout",
     "output_type": "stream",
     "text": [
      "model                     0\n",
      "displ                     0\n",
      "cyl                     199\n",
      "trans                   199\n",
      "drive                    93\n",
      "fuel                      0\n",
      "cert_region               0\n",
      "veh_class                 0\n",
      "air_pollution_score       0\n",
      "city_mpg                199\n",
      "hwy_mpg                 199\n",
      "cmb_mpg                 199\n",
      "greenhouse_gas_score    199\n",
      "smartway                  0\n",
      "dtype: int64\n"
     ]
    },
    {
     "data": {
      "text/plain": [
       "model                   0\n",
       "displ                   0\n",
       "cyl                     0\n",
       "trans                   0\n",
       "drive                   0\n",
       "fuel                    0\n",
       "cert_region             0\n",
       "veh_class               0\n",
       "air_pollution_score     0\n",
       "city_mpg                0\n",
       "hwy_mpg                 0\n",
       "cmb_mpg                 0\n",
       "greenhouse_gas_score    0\n",
       "smartway                0\n",
       "dtype: int64"
      ]
     },
     "execution_count": 682,
     "metadata": {},
     "output_type": "execute_result"
    }
   ],
   "source": [
    "# 丢弃含有缺失值的行\n",
    "# 检查下缺失值\n",
    "print(df08.isnull().sum())\n",
    "# 丢弃有缺失的\n",
    "df08.dropna(inplace = True)\n",
    "df08.isnull().sum()"
   ]
  },
  {
   "cell_type": "code",
   "execution_count": 683,
   "metadata": {},
   "outputs": [
    {
     "name": "stdout",
     "output_type": "stream",
     "text": [
      "model                    0\n",
      "displ                   36\n",
      "cyl                     36\n",
      "trans                    0\n",
      "drive                    0\n",
      "fuel                     0\n",
      "cert_region              0\n",
      "veh_class                0\n",
      "air_pollution_score      0\n",
      "city_mpg                 0\n",
      "hwy_mpg                  0\n",
      "cmb_mpg                  0\n",
      "greenhouse_gas_score     0\n",
      "smartway                 0\n",
      "dtype: int64\n"
     ]
    },
    {
     "data": {
      "text/plain": [
       "model                   0\n",
       "displ                   0\n",
       "cyl                     0\n",
       "trans                   0\n",
       "drive                   0\n",
       "fuel                    0\n",
       "cert_region             0\n",
       "veh_class               0\n",
       "air_pollution_score     0\n",
       "city_mpg                0\n",
       "hwy_mpg                 0\n",
       "cmb_mpg                 0\n",
       "greenhouse_gas_score    0\n",
       "smartway                0\n",
       "dtype: int64"
      ]
     },
     "execution_count": 683,
     "metadata": {},
     "output_type": "execute_result"
    }
   ],
   "source": [
    "print(df18.isnull().sum())\n",
    "df18.dropna(inplace = True)\n",
    "df18.isnull().sum()"
   ]
  },
  {
   "cell_type": "code",
   "execution_count": 684,
   "metadata": {},
   "outputs": [
    {
     "data": {
      "text/plain": [
       "False"
      ]
     },
     "execution_count": 684,
     "metadata": {},
     "output_type": "execute_result"
    }
   ],
   "source": [
    "# double check 一下\n",
    "df08.isnull().sum().any()"
   ]
  },
  {
   "cell_type": "code",
   "execution_count": 685,
   "metadata": {},
   "outputs": [
    {
     "data": {
      "text/plain": [
       "False"
      ]
     },
     "execution_count": 685,
     "metadata": {},
     "output_type": "execute_result"
    }
   ],
   "source": [
    "df18.isnull().sum().any()"
   ]
  },
  {
   "cell_type": "code",
   "execution_count": 686,
   "metadata": {},
   "outputs": [
    {
     "name": "stdout",
     "output_type": "stream",
     "text": [
      "63\n",
      "0\n"
     ]
    }
   ],
   "source": [
    "# 重复数据删除\n",
    "print(df08.duplicated().sum())\n",
    "df08.drop_duplicates(inplace = True)\n",
    "print(df08.duplicated().sum())"
   ]
  },
  {
   "cell_type": "code",
   "execution_count": 687,
   "metadata": {},
   "outputs": [
    {
     "name": "stdout",
     "output_type": "stream",
     "text": [
      "22\n",
      "0\n"
     ]
    }
   ],
   "source": [
    "print(df18.duplicated().sum())\n",
    "df18.drop_duplicates(inplace = True)\n",
    "print(df18.duplicated().sum())"
   ]
  },
  {
   "cell_type": "code",
   "execution_count": 688,
   "metadata": {},
   "outputs": [],
   "source": [
    "# 保存进度，以便下一段使用\n",
    "df08.to_csv('data_08b.csv', index=False)\n",
    "df18.to_csv('data_18b.csv', index=False)\n",
    "# 建议使用不同的文件名，等都完成后再调优，避免覆盖文件带来的麻烦"
   ]
  },
  {
   "cell_type": "markdown",
   "metadata": {},
   "source": [
    "# /8检查数据类型/ Inspecting Data Types\n",
    "Use the space below to explore data_08.csv and data_18.csv to answer the quiz questions below regarding datatypes."
   ]
  },
  {
   "cell_type": "code",
   "execution_count": 689,
   "metadata": {},
   "outputs": [
    {
     "name": "stdout",
     "output_type": "stream",
     "text": [
      "       model  displ      cyl    trans drive      fuel cert_region veh_class  \\\n",
      "0  ACURA MDX    3.7  (6 cyl)  Auto-S5   4WD  Gasoline          CA       SUV   \n",
      "\n",
      "  air_pollution_score city_mpg hwy_mpg cmb_mpg greenhouse_gas_score smartway  \n",
      "0                   7       15      20      17                    4       no  \n",
      "<class 'pandas.core.frame.DataFrame'>\n",
      "Int64Index: 2142 entries, 0 to 2403\n",
      "Data columns (total 14 columns):\n",
      "model                   2142 non-null object\n",
      "displ                   2142 non-null float64\n",
      "cyl                     2142 non-null object\n",
      "trans                   2142 non-null object\n",
      "drive                   2142 non-null object\n",
      "fuel                    2142 non-null object\n",
      "cert_region             2142 non-null object\n",
      "veh_class               2142 non-null object\n",
      "air_pollution_score     2142 non-null object\n",
      "city_mpg                2142 non-null object\n",
      "hwy_mpg                 2142 non-null object\n",
      "cmb_mpg                 2142 non-null object\n",
      "greenhouse_gas_score    2142 non-null object\n",
      "smartway                2142 non-null object\n",
      "dtypes: float64(1), object(13)\n",
      "memory usage: 251.0+ KB\n"
     ]
    },
    {
     "data": {
      "text/plain": [
       "NoneType"
      ]
     },
     "execution_count": 689,
     "metadata": {},
     "output_type": "execute_result"
    }
   ],
   "source": [
    "print(df08.head(1))\n",
    "type(df08.info())"
   ]
  },
  {
   "cell_type": "markdown",
   "metadata": {},
   "source": [
    "- cyl字符串要转换成数字\n",
    "- air_polution转成浮点（object是字符串）\n",
    "- city_mpg、hwy_mpg、cmb_mpg将字符串转换为浮点型\n",
    "- greenhouse_gas_score从字符转为浮点"
   ]
  },
  {
   "cell_type": "markdown",
   "metadata": {},
   "source": [
    "# /9修正数据类型第1部分/"
   ]
  },
  {
   "cell_type": "code",
   "execution_count": 701,
   "metadata": {},
   "outputs": [
    {
     "name": "stdout",
     "output_type": "stream",
     "text": [
      "6     836\n",
      "4     582\n",
      "8     516\n",
      "5     113\n",
      "12     60\n",
      "10     29\n",
      "2       4\n",
      "16      2\n",
      "Name: cyl, dtype: int64\n"
     ]
    },
    {
     "data": {
      "text/plain": [
       "numpy.int64"
      ]
     },
     "execution_count": 701,
     "metadata": {},
     "output_type": "execute_result"
    }
   ],
   "source": [
    "# 使用str的extract检索里面的数字\n",
    "# df08['cyl'] = df08['cyl'].str.extract('(\\d+)').astype(int)\n",
    "df08['cyl'] = df08['cyl'].str.extract('(\\d+)').astype(int)\n",
    "# （\\d+)是匹配任意数字的意思，有兴趣的可以看看reg或者回顾week2格式化字符串\n",
    "print(df08['cyl'].value_counts())\n",
    "type(df08['cyl'][0])"
   ]
  },
  {
   "cell_type": "code",
   "execution_count": 700,
   "metadata": {},
   "outputs": [
    {
     "name": "stdout",
     "output_type": "stream",
     "text": [
      "<class 'str'>\n",
      "6      1418\n",
      "7       504\n",
      "9.5      80\n",
      "6/6      32\n",
      "3        31\n",
      "9        23\n",
      "3/3      20\n",
      "8        15\n",
      "7/7      12\n",
      "1         6\n",
      "6/4       1\n",
      "Name: air_pollution_score, dtype: int64\n"
     ]
    },
    {
     "ename": "ValueError",
     "evalue": "invalid literal for int() with base 10: '9.5'",
     "output_type": "error",
     "traceback": [
      "\u001b[0;31m---------------------------------------------------------------------------\u001b[0m",
      "\u001b[0;31mValueError\u001b[0m                                Traceback (most recent call last)",
      "\u001b[0;32m<ipython-input-700-3fc7cd431e20>\u001b[0m in \u001b[0;36m<module>\u001b[0;34m()\u001b[0m\n\u001b[1;32m      4\u001b[0m \u001b[0mprint\u001b[0m\u001b[0;34m(\u001b[0m\u001b[0mdf08\u001b[0m\u001b[0;34m[\u001b[0m\u001b[0;34m'air_pollution_score'\u001b[0m\u001b[0;34m]\u001b[0m\u001b[0;34m.\u001b[0m\u001b[0mvalue_counts\u001b[0m\u001b[0;34m(\u001b[0m\u001b[0;34m)\u001b[0m\u001b[0;34m)\u001b[0m\u001b[0;34m\u001b[0m\u001b[0m\n\u001b[1;32m      5\u001b[0m \u001b[0;31m#print(df08['air_pollution_score'][14])\u001b[0m\u001b[0;34m\u001b[0m\u001b[0;34m\u001b[0m\u001b[0m\n\u001b[0;32m----> 6\u001b[0;31m \u001b[0mdf08\u001b[0m\u001b[0;34m[\u001b[0m\u001b[0;34m'air_pollution_score'\u001b[0m\u001b[0;34m]\u001b[0m \u001b[0;34m=\u001b[0m \u001b[0mdf08\u001b[0m\u001b[0;34m[\u001b[0m\u001b[0;34m'air_pollution_score'\u001b[0m\u001b[0;34m]\u001b[0m\u001b[0;34m.\u001b[0m\u001b[0mastype\u001b[0m\u001b[0;34m(\u001b[0m\u001b[0mint\u001b[0m\u001b[0;34m)\u001b[0m\u001b[0;34m\u001b[0m\u001b[0m\n\u001b[0m\u001b[1;32m      7\u001b[0m \u001b[0;31m# 使用str的extract检索里面的数字\u001b[0m\u001b[0;34m\u001b[0m\u001b[0;34m\u001b[0m\u001b[0m\n\u001b[1;32m      8\u001b[0m \u001b[0;31m# df08['cyl'] = df08['cyl'].str.extract('(\\d+)').astype(int)\u001b[0m\u001b[0;34m\u001b[0m\u001b[0;34m\u001b[0m\u001b[0m\n",
      "\u001b[0;32m/usr/local/anaconda3/lib/python3.6/site-packages/pandas/util/_decorators.py\u001b[0m in \u001b[0;36mwrapper\u001b[0;34m(*args, **kwargs)\u001b[0m\n\u001b[1;32m    175\u001b[0m                 \u001b[0;32melse\u001b[0m\u001b[0;34m:\u001b[0m\u001b[0;34m\u001b[0m\u001b[0m\n\u001b[1;32m    176\u001b[0m                     \u001b[0mkwargs\u001b[0m\u001b[0;34m[\u001b[0m\u001b[0mnew_arg_name\u001b[0m\u001b[0;34m]\u001b[0m \u001b[0;34m=\u001b[0m \u001b[0mnew_arg_value\u001b[0m\u001b[0;34m\u001b[0m\u001b[0m\n\u001b[0;32m--> 177\u001b[0;31m             \u001b[0;32mreturn\u001b[0m \u001b[0mfunc\u001b[0m\u001b[0;34m(\u001b[0m\u001b[0;34m*\u001b[0m\u001b[0margs\u001b[0m\u001b[0;34m,\u001b[0m \u001b[0;34m**\u001b[0m\u001b[0mkwargs\u001b[0m\u001b[0;34m)\u001b[0m\u001b[0;34m\u001b[0m\u001b[0m\n\u001b[0m\u001b[1;32m    178\u001b[0m         \u001b[0;32mreturn\u001b[0m \u001b[0mwrapper\u001b[0m\u001b[0;34m\u001b[0m\u001b[0m\n\u001b[1;32m    179\u001b[0m     \u001b[0;32mreturn\u001b[0m \u001b[0m_deprecate_kwarg\u001b[0m\u001b[0;34m\u001b[0m\u001b[0m\n",
      "\u001b[0;32m/usr/local/anaconda3/lib/python3.6/site-packages/pandas/core/generic.py\u001b[0m in \u001b[0;36mastype\u001b[0;34m(self, dtype, copy, errors, **kwargs)\u001b[0m\n\u001b[1;32m   4995\u001b[0m             \u001b[0;31m# else, only a single dtype is given\u001b[0m\u001b[0;34m\u001b[0m\u001b[0;34m\u001b[0m\u001b[0m\n\u001b[1;32m   4996\u001b[0m             new_data = self._data.astype(dtype=dtype, copy=copy, errors=errors,\n\u001b[0;32m-> 4997\u001b[0;31m                                          **kwargs)\n\u001b[0m\u001b[1;32m   4998\u001b[0m             \u001b[0;32mreturn\u001b[0m \u001b[0mself\u001b[0m\u001b[0;34m.\u001b[0m\u001b[0m_constructor\u001b[0m\u001b[0;34m(\u001b[0m\u001b[0mnew_data\u001b[0m\u001b[0;34m)\u001b[0m\u001b[0;34m.\u001b[0m\u001b[0m__finalize__\u001b[0m\u001b[0;34m(\u001b[0m\u001b[0mself\u001b[0m\u001b[0;34m)\u001b[0m\u001b[0;34m\u001b[0m\u001b[0m\n\u001b[1;32m   4999\u001b[0m \u001b[0;34m\u001b[0m\u001b[0m\n",
      "\u001b[0;32m/usr/local/anaconda3/lib/python3.6/site-packages/pandas/core/internals.py\u001b[0m in \u001b[0;36mastype\u001b[0;34m(self, dtype, **kwargs)\u001b[0m\n\u001b[1;32m   3712\u001b[0m \u001b[0;34m\u001b[0m\u001b[0m\n\u001b[1;32m   3713\u001b[0m     \u001b[0;32mdef\u001b[0m \u001b[0mastype\u001b[0m\u001b[0;34m(\u001b[0m\u001b[0mself\u001b[0m\u001b[0;34m,\u001b[0m \u001b[0mdtype\u001b[0m\u001b[0;34m,\u001b[0m \u001b[0;34m**\u001b[0m\u001b[0mkwargs\u001b[0m\u001b[0;34m)\u001b[0m\u001b[0;34m:\u001b[0m\u001b[0;34m\u001b[0m\u001b[0m\n\u001b[0;32m-> 3714\u001b[0;31m         \u001b[0;32mreturn\u001b[0m \u001b[0mself\u001b[0m\u001b[0;34m.\u001b[0m\u001b[0mapply\u001b[0m\u001b[0;34m(\u001b[0m\u001b[0;34m'astype'\u001b[0m\u001b[0;34m,\u001b[0m \u001b[0mdtype\u001b[0m\u001b[0;34m=\u001b[0m\u001b[0mdtype\u001b[0m\u001b[0;34m,\u001b[0m \u001b[0;34m**\u001b[0m\u001b[0mkwargs\u001b[0m\u001b[0;34m)\u001b[0m\u001b[0;34m\u001b[0m\u001b[0m\n\u001b[0m\u001b[1;32m   3715\u001b[0m \u001b[0;34m\u001b[0m\u001b[0m\n\u001b[1;32m   3716\u001b[0m     \u001b[0;32mdef\u001b[0m \u001b[0mconvert\u001b[0m\u001b[0;34m(\u001b[0m\u001b[0mself\u001b[0m\u001b[0;34m,\u001b[0m \u001b[0;34m**\u001b[0m\u001b[0mkwargs\u001b[0m\u001b[0;34m)\u001b[0m\u001b[0;34m:\u001b[0m\u001b[0;34m\u001b[0m\u001b[0m\n",
      "\u001b[0;32m/usr/local/anaconda3/lib/python3.6/site-packages/pandas/core/internals.py\u001b[0m in \u001b[0;36mapply\u001b[0;34m(self, f, axes, filter, do_integrity_check, consolidate, **kwargs)\u001b[0m\n\u001b[1;32m   3579\u001b[0m \u001b[0;34m\u001b[0m\u001b[0m\n\u001b[1;32m   3580\u001b[0m             \u001b[0mkwargs\u001b[0m\u001b[0;34m[\u001b[0m\u001b[0;34m'mgr'\u001b[0m\u001b[0;34m]\u001b[0m \u001b[0;34m=\u001b[0m \u001b[0mself\u001b[0m\u001b[0;34m\u001b[0m\u001b[0m\n\u001b[0;32m-> 3581\u001b[0;31m             \u001b[0mapplied\u001b[0m \u001b[0;34m=\u001b[0m \u001b[0mgetattr\u001b[0m\u001b[0;34m(\u001b[0m\u001b[0mb\u001b[0m\u001b[0;34m,\u001b[0m \u001b[0mf\u001b[0m\u001b[0;34m)\u001b[0m\u001b[0;34m(\u001b[0m\u001b[0;34m**\u001b[0m\u001b[0mkwargs\u001b[0m\u001b[0;34m)\u001b[0m\u001b[0;34m\u001b[0m\u001b[0m\n\u001b[0m\u001b[1;32m   3582\u001b[0m             \u001b[0mresult_blocks\u001b[0m \u001b[0;34m=\u001b[0m \u001b[0m_extend_blocks\u001b[0m\u001b[0;34m(\u001b[0m\u001b[0mapplied\u001b[0m\u001b[0;34m,\u001b[0m \u001b[0mresult_blocks\u001b[0m\u001b[0;34m)\u001b[0m\u001b[0;34m\u001b[0m\u001b[0m\n\u001b[1;32m   3583\u001b[0m \u001b[0;34m\u001b[0m\u001b[0m\n",
      "\u001b[0;32m/usr/local/anaconda3/lib/python3.6/site-packages/pandas/core/internals.py\u001b[0m in \u001b[0;36mastype\u001b[0;34m(self, dtype, copy, errors, values, **kwargs)\u001b[0m\n\u001b[1;32m    573\u001b[0m     \u001b[0;32mdef\u001b[0m \u001b[0mastype\u001b[0m\u001b[0;34m(\u001b[0m\u001b[0mself\u001b[0m\u001b[0;34m,\u001b[0m \u001b[0mdtype\u001b[0m\u001b[0;34m,\u001b[0m \u001b[0mcopy\u001b[0m\u001b[0;34m=\u001b[0m\u001b[0;32mFalse\u001b[0m\u001b[0;34m,\u001b[0m \u001b[0merrors\u001b[0m\u001b[0;34m=\u001b[0m\u001b[0;34m'raise'\u001b[0m\u001b[0;34m,\u001b[0m \u001b[0mvalues\u001b[0m\u001b[0;34m=\u001b[0m\u001b[0;32mNone\u001b[0m\u001b[0;34m,\u001b[0m \u001b[0;34m**\u001b[0m\u001b[0mkwargs\u001b[0m\u001b[0;34m)\u001b[0m\u001b[0;34m:\u001b[0m\u001b[0;34m\u001b[0m\u001b[0m\n\u001b[1;32m    574\u001b[0m         return self._astype(dtype, copy=copy, errors=errors, values=values,\n\u001b[0;32m--> 575\u001b[0;31m                             **kwargs)\n\u001b[0m\u001b[1;32m    576\u001b[0m \u001b[0;34m\u001b[0m\u001b[0m\n\u001b[1;32m    577\u001b[0m     def _astype(self, dtype, copy=False, errors='raise', values=None,\n",
      "\u001b[0;32m/usr/local/anaconda3/lib/python3.6/site-packages/pandas/core/internals.py\u001b[0m in \u001b[0;36m_astype\u001b[0;34m(self, dtype, copy, errors, values, klass, mgr, **kwargs)\u001b[0m\n\u001b[1;32m    662\u001b[0m \u001b[0;34m\u001b[0m\u001b[0m\n\u001b[1;32m    663\u001b[0m                 \u001b[0;31m# _astype_nansafe works fine with 1-d only\u001b[0m\u001b[0;34m\u001b[0m\u001b[0;34m\u001b[0m\u001b[0m\n\u001b[0;32m--> 664\u001b[0;31m                 \u001b[0mvalues\u001b[0m \u001b[0;34m=\u001b[0m \u001b[0mastype_nansafe\u001b[0m\u001b[0;34m(\u001b[0m\u001b[0mvalues\u001b[0m\u001b[0;34m.\u001b[0m\u001b[0mravel\u001b[0m\u001b[0;34m(\u001b[0m\u001b[0;34m)\u001b[0m\u001b[0;34m,\u001b[0m \u001b[0mdtype\u001b[0m\u001b[0;34m,\u001b[0m \u001b[0mcopy\u001b[0m\u001b[0;34m=\u001b[0m\u001b[0;32mTrue\u001b[0m\u001b[0;34m)\u001b[0m\u001b[0;34m\u001b[0m\u001b[0m\n\u001b[0m\u001b[1;32m    665\u001b[0m                 \u001b[0mvalues\u001b[0m \u001b[0;34m=\u001b[0m \u001b[0mvalues\u001b[0m\u001b[0;34m.\u001b[0m\u001b[0mreshape\u001b[0m\u001b[0;34m(\u001b[0m\u001b[0mself\u001b[0m\u001b[0;34m.\u001b[0m\u001b[0mshape\u001b[0m\u001b[0;34m)\u001b[0m\u001b[0;34m\u001b[0m\u001b[0m\n\u001b[1;32m    666\u001b[0m \u001b[0;34m\u001b[0m\u001b[0m\n",
      "\u001b[0;32m/usr/local/anaconda3/lib/python3.6/site-packages/pandas/core/dtypes/cast.py\u001b[0m in \u001b[0;36mastype_nansafe\u001b[0;34m(arr, dtype, copy)\u001b[0m\n\u001b[1;32m    707\u001b[0m         \u001b[0;31m# work around NumPy brokenness, #1987\u001b[0m\u001b[0;34m\u001b[0m\u001b[0;34m\u001b[0m\u001b[0m\n\u001b[1;32m    708\u001b[0m         \u001b[0;32mif\u001b[0m \u001b[0mnp\u001b[0m\u001b[0;34m.\u001b[0m\u001b[0missubdtype\u001b[0m\u001b[0;34m(\u001b[0m\u001b[0mdtype\u001b[0m\u001b[0;34m.\u001b[0m\u001b[0mtype\u001b[0m\u001b[0;34m,\u001b[0m \u001b[0mnp\u001b[0m\u001b[0;34m.\u001b[0m\u001b[0minteger\u001b[0m\u001b[0;34m)\u001b[0m\u001b[0;34m:\u001b[0m\u001b[0;34m\u001b[0m\u001b[0m\n\u001b[0;32m--> 709\u001b[0;31m             \u001b[0;32mreturn\u001b[0m \u001b[0mlib\u001b[0m\u001b[0;34m.\u001b[0m\u001b[0mastype_intsafe\u001b[0m\u001b[0;34m(\u001b[0m\u001b[0marr\u001b[0m\u001b[0;34m.\u001b[0m\u001b[0mravel\u001b[0m\u001b[0;34m(\u001b[0m\u001b[0;34m)\u001b[0m\u001b[0;34m,\u001b[0m \u001b[0mdtype\u001b[0m\u001b[0;34m)\u001b[0m\u001b[0;34m.\u001b[0m\u001b[0mreshape\u001b[0m\u001b[0;34m(\u001b[0m\u001b[0marr\u001b[0m\u001b[0;34m.\u001b[0m\u001b[0mshape\u001b[0m\u001b[0;34m)\u001b[0m\u001b[0;34m\u001b[0m\u001b[0m\n\u001b[0m\u001b[1;32m    710\u001b[0m \u001b[0;34m\u001b[0m\u001b[0m\n\u001b[1;32m    711\u001b[0m         \u001b[0;31m# if we have a datetime/timedelta array of objects\u001b[0m\u001b[0;34m\u001b[0m\u001b[0;34m\u001b[0m\u001b[0m\n",
      "\u001b[0;32mpandas/_libs/lib.pyx\u001b[0m in \u001b[0;36mpandas._libs.lib.astype_intsafe\u001b[0;34m()\u001b[0m\n",
      "\u001b[0;32mpandas/_libs/src/util.pxd\u001b[0m in \u001b[0;36mutil.set_value_at_unsafe\u001b[0;34m()\u001b[0m\n",
      "\u001b[0;31mValueError\u001b[0m: invalid literal for int() with base 10: '9.5'"
     ]
    }
   ],
   "source": [
    "# air08\n",
    "# 检查下，不但是str，除了小数还有分数\n",
    "print(type(df08['air_pollution_score'][0]))\n",
    "print(df08['air_pollution_score'].value_counts())\n",
    "#print(df08['air_pollution_score'][14])\n",
    "df08['air_pollution_score'] = df08['air_pollution_score'].astype(int)\n"
   ]
  },
  {
   "cell_type": "code",
   "execution_count": null,
   "metadata": {},
   "outputs": [],
   "source": [
    "# cyl18\n",
    "print(df18['cyl'].value_counts())\n",
    "df18['cyl'] = df18['cyl'].astype(int)\n",
    "# 貌似astype不能使用inplace参数\n",
    "print(df18['cyl'].value_counts())\n",
    "type(df18['cyl'][0])"
   ]
  },
  {
   "cell_type": "markdown",
   "metadata": {},
   "source": [
    "# /10修正数据类型第2部分/"
   ]
  },
  {
   "cell_type": "code",
   "execution_count": null,
   "metadata": {},
   "outputs": [],
   "source": [
    "# air08\n",
    "type(df08['air_pollution_score'][0])\n",
    "df08['air_pollution_score'].astype(int, inplace = True)\n",
    "type(df08['air_pollution_score'][0])"
   ]
  },
  {
   "cell_type": "code",
   "execution_count": null,
   "metadata": {},
   "outputs": [],
   "source": []
  }
 ],
 "metadata": {
  "kernelspec": {
   "display_name": "Python 3",
   "language": "python",
   "name": "python3"
  },
  "language_info": {
   "codemirror_mode": {
    "name": "ipython",
    "version": 3
   },
   "file_extension": ".py",
   "mimetype": "text/x-python",
   "name": "python",
   "nbconvert_exporter": "python",
   "pygments_lexer": "ipython3",
   "version": "3.6.5"
  }
 },
 "nbformat": 4,
 "nbformat_minor": 2
}
