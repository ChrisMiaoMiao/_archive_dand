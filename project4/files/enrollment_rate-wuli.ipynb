{
 "cells": [
  {
   "cell_type": "code",
   "execution_count": 2,
   "metadata": {},
   "outputs": [],
   "source": [
    "import numpy as np\n",
    "import pandas as pd\n",
    "import matplotlib.pyplot as plt\n",
    "%matplotlib inline\n",
    "\n",
    "np.random.seed(42)"
   ]
  },
  {
   "cell_type": "code",
   "execution_count": 4,
   "metadata": {},
   "outputs": [
    {
     "data": {
      "text/html": [
       "<div>\n",
       "<style scoped>\n",
       "    .dataframe tbody tr th:only-of-type {\n",
       "        vertical-align: middle;\n",
       "    }\n",
       "\n",
       "    .dataframe tbody tr th {\n",
       "        vertical-align: top;\n",
       "    }\n",
       "\n",
       "    .dataframe thead th {\n",
       "        text-align: right;\n",
       "    }\n",
       "</style>\n",
       "<table border=\"1\" class=\"dataframe\">\n",
       "  <thead>\n",
       "    <tr style=\"text-align: right;\">\n",
       "      <th></th>\n",
       "      <th>timestamp</th>\n",
       "      <th>id</th>\n",
       "      <th>group</th>\n",
       "      <th>action</th>\n",
       "      <th>duration</th>\n",
       "    </tr>\n",
       "  </thead>\n",
       "  <tbody>\n",
       "    <tr>\n",
       "      <th>0</th>\n",
       "      <td>2016-09-24 17:14:52.012145</td>\n",
       "      <td>261869</td>\n",
       "      <td>experiment</td>\n",
       "      <td>view</td>\n",
       "      <td>130.545004</td>\n",
       "    </tr>\n",
       "    <tr>\n",
       "      <th>1</th>\n",
       "      <td>2016-09-24 18:45:09.645857</td>\n",
       "      <td>226546</td>\n",
       "      <td>experiment</td>\n",
       "      <td>view</td>\n",
       "      <td>159.862440</td>\n",
       "    </tr>\n",
       "    <tr>\n",
       "      <th>2</th>\n",
       "      <td>2016-09-24 19:16:21.002533</td>\n",
       "      <td>286353</td>\n",
       "      <td>experiment</td>\n",
       "      <td>view</td>\n",
       "      <td>79.349315</td>\n",
       "    </tr>\n",
       "    <tr>\n",
       "      <th>3</th>\n",
       "      <td>2016-09-24 19:43:06.927785</td>\n",
       "      <td>842279</td>\n",
       "      <td>experiment</td>\n",
       "      <td>view</td>\n",
       "      <td>55.536126</td>\n",
       "    </tr>\n",
       "    <tr>\n",
       "      <th>4</th>\n",
       "      <td>2016-09-24 21:08:22.790333</td>\n",
       "      <td>781883</td>\n",
       "      <td>experiment</td>\n",
       "      <td>view</td>\n",
       "      <td>204.322437</td>\n",
       "    </tr>\n",
       "  </tbody>\n",
       "</table>\n",
       "</div>"
      ],
      "text/plain": [
       "                    timestamp      id       group action    duration\n",
       "0  2016-09-24 17:14:52.012145  261869  experiment   view  130.545004\n",
       "1  2016-09-24 18:45:09.645857  226546  experiment   view  159.862440\n",
       "2  2016-09-24 19:16:21.002533  286353  experiment   view   79.349315\n",
       "3  2016-09-24 19:43:06.927785  842279  experiment   view   55.536126\n",
       "4  2016-09-24 21:08:22.790333  781883  experiment   view  204.322437"
      ]
     },
     "execution_count": 4,
     "metadata": {},
     "output_type": "execute_result"
    }
   ],
   "source": [
    "df = pd.read_csv('l13_10_course_page_actions.csv')\n",
    "df.head()"
   ]
  },
  {
   "cell_type": "code",
   "execution_count": 5,
   "metadata": {},
   "outputs": [
    {
     "data": {
      "text/plain": [
       "0.23452157598499063"
      ]
     },
     "execution_count": 5,
     "metadata": {},
     "output_type": "execute_result"
    }
   ],
   "source": [
    "# Get dataframe with all records from control group\n",
    "control_df = df.query('group == \"control\"')\n",
    "\n",
    "# Compute click through rate for control group\n",
    "control_ctr = control_df.query('action == \"enroll\"').count()[0] / control_df.query('action == \"view\"').count()[0]\n",
    "\n",
    "# Display click through rate\n",
    "control_ctr"
   ]
  },
  {
   "cell_type": "code",
   "execution_count": 6,
   "metadata": {},
   "outputs": [
    {
     "data": {
      "text/plain": [
       "0.2642986152919928"
      ]
     },
     "execution_count": 6,
     "metadata": {},
     "output_type": "execute_result"
    }
   ],
   "source": [
    "# Get dataframe with all records from experiment group\n",
    "experiment_df = df.query('group == \"experiment\"')\n",
    "\n",
    "# Compute click through rate for experiment group\n",
    "experiment_ctr = experiment_df.query('action == \"enroll\"').count()[0] / experiment_df.query('action == \"view\"').count()[0]\n",
    "\n",
    "# Display click through rate\n",
    "experiment_ctr\n"
   ]
  },
  {
   "cell_type": "code",
   "execution_count": 7,
   "metadata": {},
   "outputs": [
    {
     "data": {
      "text/plain": [
       "0.02977703930700215"
      ]
     },
     "execution_count": 7,
     "metadata": {},
     "output_type": "execute_result"
    }
   ],
   "source": [
    "# Compute the observed difference in click through rates\n",
    "obs_diff =  experiment_ctr - control_ctr\n",
    "\n",
    "# Display observed difference\n",
    "obs_diff"
   ]
  },
  {
   "cell_type": "code",
   "execution_count": 60,
   "metadata": {},
   "outputs": [],
   "source": [
    "# Create a sampling distribution of the difference in proportions\n",
    "# with bootstrapping\n",
    "diffs = []\n",
    "size = df.shape[0]\n",
    "for _ in range(10000):\n",
    "    b_samp = df.sample(size, replace=True)\n",
    "    control_df = b_samp.query('group == \"control\"')\n",
    "    experiment_df = b_samp.query('group == \"experiment\"')\n",
    "    \n",
    "    control_ctr = control_df.query('action == \"enroll\"').count()[0] / control_df.query('action == \"view\"').count()[0]\n",
    "    experiment_ctr = experiment_df.query('action == \"enroll\"').count()[0] / experiment_df.query('action == \"view\"').count()[0]\n",
    "    diffs.append(experiment_ctr - control_ctr)\n",
    "\n"
   ]
  },
  {
   "cell_type": "code",
   "execution_count": 62,
   "metadata": {},
   "outputs": [
    {
     "data": {
      "text/plain": [
       "(array([9.000e+00, 1.240e+02, 6.720e+02, 1.924e+03, 3.037e+03, 2.569e+03,\n",
       "        1.283e+03, 3.240e+02, 5.700e+01, 1.000e+00]),\n",
       " array([-0.04383067, -0.028376  , -0.01292133,  0.00253334,  0.01798801,\n",
       "         0.03344268,  0.04889735,  0.06435202,  0.07980669,  0.09526136,\n",
       "         0.11071603]),\n",
       " <a list of 10 Patch objects>)"
      ]
     },
     "execution_count": 62,
     "metadata": {},
     "output_type": "execute_result"
    },
    {
     "data": {
      "image/png": "[encoded data removed]",
      "text/plain": [
       "<Figure size 432x288 with 1 Axes>"
      ]
     },
     "metadata": {
      "needs_background": "light"
     },
     "output_type": "display_data"
    }
   ],
   "source": [
    "# Convert to numpy array\n",
    "diffs = np.array(diffs)\n",
    "# print(diffs)\n",
    "\n",
    "# Plot sampling distribution\n",
    "plt.hist(diffs)"
   ]
  },
  {
   "cell_type": "code",
   "execution_count": 64,
   "metadata": {},
   "outputs": [
    {
     "data": {
      "text/plain": [
       "0.019494975488116267"
      ]
     },
     "execution_count": 64,
     "metadata": {},
     "output_type": "execute_result"
    }
   ],
   "source": [
    "diffs.std()"
   ]
  },
  {
   "cell_type": "code",
   "execution_count": 65,
   "metadata": {},
   "outputs": [
    {
     "data": {
      "text/plain": [
       "10000"
      ]
     },
     "execution_count": 65,
     "metadata": {},
     "output_type": "execute_result"
    }
   ],
   "source": [
    "diffs.size"
   ]
  },
  {
   "cell_type": "code",
   "execution_count": 66,
   "metadata": {},
   "outputs": [
    {
     "data": {
      "text/plain": [
       "<matplotlib.lines.Line2D at 0x11aa99e48>"
      ]
     },
     "execution_count": 66,
     "metadata": {},
     "output_type": "execute_result"
    },
    {
     "data": {
      "image/png": "[encoded data removed]",
      "text/plain": [
       "<Figure size 432x288 with 1 Axes>"
      ]
     },
     "metadata": {
      "needs_background": "light"
     },
     "output_type": "display_data"
    }
   ],
   "source": [
    "# Simulate distribution under the null hypothesis\n",
    "\n",
    "null_vals = np.random.normal(0,diffs.std(),diffs.size)\n",
    "# Plot the null distribution\n",
    "plt.hist(null_vals)\n",
    "plt.axvline(obs_diff,c='r',linewidth='2')"
   ]
  },
  {
   "cell_type": "code",
   "execution_count": 54,
   "metadata": {},
   "outputs": [
    {
     "data": {
      "text/plain": [
       "0.019555353468500822"
      ]
     },
     "execution_count": 54,
     "metadata": {},
     "output_type": "execute_result"
    }
   ],
   "source": [
    "diffs.std()"
   ]
  },
  {
   "cell_type": "code",
   "execution_count": 68,
   "metadata": {},
   "outputs": [
    {
     "data": {
      "text/plain": [
       "0.067"
      ]
     },
     "execution_count": 68,
     "metadata": {},
     "output_type": "execute_result"
    }
   ],
   "source": [
    "# Plot observed statistic with the null distibution\n",
    "\n",
    "\n",
    "(null_vals > obs_diff).mean()"
   ]
  },
  {
   "cell_type": "code",
   "execution_count": 49,
   "metadata": {},
   "outputs": [
    {
     "data": {
      "text/plain": [
       "0.02977703930700215"
      ]
     },
     "execution_count": 49,
     "metadata": {},
     "output_type": "execute_result"
    }
   ],
   "source": [
    "obs_diff"
   ]
  },
  {
   "cell_type": "code",
   "execution_count": 35,
   "metadata": {},
   "outputs": [
    {
     "data": {
      "text/plain": [
       "array([-2.37717457e-03, -1.56526706e-02,  3.61237425e-02, -1.77922036e-02,\n",
       "        3.86221236e-02,  8.58974375e-03,  1.30415565e-03,  1.64298452e-02,\n",
       "       -2.56643255e-03,  1.17253658e-02, -3.76665285e-03, -1.66708907e-02,\n",
       "       -4.36391518e-03, -1.42001662e-02,  4.84824602e-02,  1.90335549e-02,\n",
       "       -1.33023579e-03, -3.33014317e-03,  2.45785629e-02,  2.56645608e-02,\n",
       "       -2.77888848e-02, -1.25861804e-02,  2.20352544e-02, -2.94410207e-02,\n",
       "        1.09867205e-02, -2.22354481e-02, -3.12212467e-02,  3.34827164e-02,\n",
       "        2.74517373e-02,  1.36220166e-02, -4.27592403e-02, -3.94737770e-02,\n",
       "       -1.22550719e-02,  2.35619276e-02,  1.36572834e-02, -2.15913489e-02,\n",
       "        2.43019282e-02, -1.08765132e-02,  2.27382630e-02,  1.13486677e-03,\n",
       "        4.52321666e-02,  1.88147750e-02, -1.57059920e-02,  3.15037390e-02,\n",
       "        7.13554730e-03, -2.38547873e-02,  1.11802507e-02,  1.12079817e-02,\n",
       "       -1.69865203e-02,  9.27308277e-05, -1.55618629e-02,  5.78580358e-03,\n",
       "       -4.34420412e-02, -1.27893933e-04, -1.39342548e-02, -2.30237640e-03,\n",
       "        1.57914536e-02, -3.07564084e-02,  1.51684032e-02, -1.93744930e-02,\n",
       "        1.21800928e-02,  3.31815571e-02,  3.23364845e-02,  6.13772247e-03,\n",
       "        1.24793500e-02,  2.19689932e-03,  1.32053352e-02, -1.65002181e-02,\n",
       "       -1.20671949e-02,  6.85069338e-03,  1.09363742e-02,  2.10218918e-02,\n",
       "        1.18478104e-02,  8.69863595e-03,  1.03400269e-02, -7.75673626e-04,\n",
       "        1.24620290e-02,  7.36158188e-03, -4.40302737e-02,  1.42770795e-02,\n",
       "        2.10131560e-02,  5.79715811e-03,  3.10142947e-03, -3.37879757e-02,\n",
       "       -1.73151187e-02,  1.06376281e-02,  2.87849231e-02,  1.21033461e-02,\n",
       "        1.83586661e-02,  5.71092535e-02, -6.68454226e-03,  1.21715041e-02,\n",
       "        1.14099933e-02, -6.25026241e-03,  2.43896873e-02,  3.97443239e-02,\n",
       "       -1.01479734e-02, -7.41029796e-03,  1.27940689e-02,  2.04683163e-03,\n",
       "        2.69987520e-02, -1.47172944e-02,  1.23780866e-02,  1.83521444e-02,\n",
       "        3.62364070e-02,  4.77045851e-02,  1.71315133e-02, -3.42618757e-02,\n",
       "        2.23333876e-02,  1.35675020e-02, -2.04241612e-02,  7.85094025e-03,\n",
       "       -2.90360236e-03, -3.59930452e-02, -7.34629741e-03,  1.62815121e-02,\n",
       "       -3.09929405e-02, -1.68472951e-02,  1.36548724e-02, -8.06221345e-03,\n",
       "        1.70738174e-02, -3.05923288e-02,  3.18354608e-03, -1.02122497e-02,\n",
       "       -3.24930584e-02, -1.91445608e-02, -4.66880247e-02,  1.47727441e-02,\n",
       "        1.29858190e-02,  3.05255544e-02,  1.30604752e-02,  8.52500330e-03,\n",
       "       -7.09953239e-03, -2.38168448e-02, -3.07160864e-02,  1.46142745e-02,\n",
       "       -2.98505811e-03, -1.03429810e-02, -1.24377000e-02, -5.64788348e-03,\n",
       "       -3.43402802e-02,  4.07767532e-02,  1.35940975e-02, -1.36687877e-02,\n",
       "        1.79354472e-02, -8.47314078e-03,  1.84250823e-02, -8.78087252e-03,\n",
       "        2.51155313e-02, -1.89200778e-02,  5.41198238e-03, -2.07954930e-03,\n",
       "       -2.95594116e-02, -1.37642888e-02,  1.45396445e-02,  3.15911049e-02,\n",
       "       -1.21546466e-02,  3.01538708e-02,  1.21903350e-02, -4.89597875e-03,\n",
       "        8.14582455e-03, -7.16288020e-03, -2.50064975e-02,  1.09290664e-02,\n",
       "       -5.85920715e-03,  1.83166820e-02, -1.07398221e-02,  1.47353764e-03,\n",
       "       -1.65260796e-02, -1.29339863e-02,  2.30200426e-03,  1.66894262e-02,\n",
       "        4.79602241e-02, -2.62286606e-02,  8.85332518e-03,  4.48379196e-02,\n",
       "       -4.91586512e-03,  1.23732004e-02, -3.84183814e-02,  1.94374338e-02,\n",
       "       -5.55787918e-03,  2.66606498e-02,  1.04665736e-02,  3.51052973e-02,\n",
       "        5.92512072e-03,  4.57430343e-03, -2.08329136e-02, -9.82966393e-03,\n",
       "        2.64522472e-02,  1.71671739e-02,  9.64641637e-03, -1.50193054e-02,\n",
       "        1.77703278e-02, -1.85614248e-02,  2.97839022e-02,  1.75213274e-02,\n",
       "       -3.83490677e-02, -2.81760133e-02, -7.32615539e-03,  1.06177583e-02,\n",
       "       -4.40880145e-03, -1.40642172e-02, -3.40679819e-03, -4.56810438e-03,\n",
       "        4.12160622e-02, -1.07620144e-02,  1.29422355e-02, -3.38080166e-02,\n",
       "        1.85803228e-02,  1.37150381e-02, -5.73367957e-03, -2.65633077e-03,\n",
       "        3.62712260e-03, -2.90369649e-03, -1.54379020e-02,  2.60188378e-03,\n",
       "        2.03005492e-03, -2.28267253e-02, -1.87543415e-02,  1.10745262e-03,\n",
       "       -1.73811599e-02,  3.43602352e-02,  5.76531598e-03, -1.14369904e-02,\n",
       "        5.31276326e-03, -1.08646198e-02, -1.88308620e-02,  2.13906487e-02,\n",
       "       -1.52437597e-02, -4.25446889e-02, -3.30682260e-04, -8.07375098e-03,\n",
       "       -2.45439253e-02,  2.94879127e-02, -1.67723158e-02,  5.04296272e-03,\n",
       "       -2.96687072e-02, -3.00312377e-03, -1.40455750e-02,  4.87385489e-03,\n",
       "        1.74568464e-02,  1.78634874e-02, -7.81251099e-03,  5.08811443e-03,\n",
       "        5.83368109e-03, -3.68680003e-02, -7.93768729e-04, -1.36857293e-02,\n",
       "       -1.05448984e-02, -5.01993201e-02, -1.74657775e-03,  1.78289372e-03,\n",
       "       -1.59946763e-02,  1.44930705e-04, -3.27636328e-02,  1.28941551e-02,\n",
       "        3.40811352e-03, -8.27746900e-03,  4.46940104e-02, -1.40591458e-02,\n",
       "        2.46594041e-02,  2.18985498e-02, -5.74252590e-03,  5.89588259e-03,\n",
       "        3.18439094e-02, -3.95413623e-02, -5.28084672e-03, -4.78706038e-03,\n",
       "       -2.95954420e-02, -2.22871105e-02, -9.17756734e-03,  1.43072377e-02,\n",
       "       -3.12403257e-02, -2.29449951e-02,  2.07850994e-02,  7.04723113e-03,\n",
       "       -6.44518829e-03, -8.93468413e-03, -9.50164246e-03,  4.57622776e-03,\n",
       "       -3.50061434e-02, -1.14121821e-03, -1.47949902e-02, -5.19736696e-03,\n",
       "        1.70665929e-07, -2.57242054e-02, -2.24470130e-02, -1.48858573e-02,\n",
       "       -1.75208827e-02, -2.49144483e-02, -5.59238888e-03, -8.44314553e-04,\n",
       "        2.11482914e-02,  2.03696301e-02, -1.73783820e-02, -1.66892640e-03,\n",
       "       -5.29153080e-03, -4.46419266e-02,  4.81883249e-02,  1.84102050e-02,\n",
       "       -3.95230423e-03, -2.81348653e-05,  7.48946268e-03,  3.44113042e-02,\n",
       "       -1.42626511e-02,  2.66540285e-02,  1.35604188e-02,  5.64987449e-04,\n",
       "        1.21736753e-02,  8.97529881e-03, -5.08002753e-02, -2.27879024e-02,\n",
       "        1.95248233e-02,  2.79406531e-02,  1.64032429e-02,  3.60573141e-02,\n",
       "       -1.14894309e-02,  7.10201461e-04,  1.96943435e-02,  1.08172406e-02,\n",
       "       -5.24370347e-03,  2.24212783e-02,  3.55872207e-02, -1.71505651e-02,\n",
       "       -1.63504669e-02,  3.24405120e-02, -3.04249053e-02, -3.60519399e-02,\n",
       "        1.36108699e-02,  6.10668365e-03, -3.12338528e-03,  3.09168906e-02,\n",
       "       -4.80702981e-02,  3.00967175e-02, -1.76645150e-02,  2.05838596e-03,\n",
       "       -2.45283299e-02, -1.22350643e-02, -1.01328787e-02, -2.87790323e-02,\n",
       "        2.57721323e-03,  2.92084859e-02, -1.08435555e-02,  1.69605549e-02,\n",
       "        3.41550045e-02,  4.00491701e-02,  7.82537029e-03,  6.29735015e-03,\n",
       "        1.83399096e-02, -4.49258820e-03,  1.48891131e-02,  2.04145115e-02,\n",
       "        1.47331499e-02,  1.48746147e-02,  4.29191788e-03, -1.05873807e-02,\n",
       "       -1.08126374e-02,  1.43688527e-02, -4.34079315e-02,  2.97379787e-02,\n",
       "       -3.14204316e-02, -1.74922108e-02, -1.54248234e-03, -1.77662114e-02,\n",
       "       -4.06873793e-02,  2.44490110e-02,  4.48575736e-03, -1.81440810e-02,\n",
       "       -2.31234283e-02, -2.70623047e-02, -1.95288915e-03,  3.28665134e-02,\n",
       "       -5.60113966e-03,  7.62245890e-03, -9.16708599e-03,  2.73998934e-02,\n",
       "        7.50591847e-03,  2.35287662e-02, -1.46939775e-02,  2.27270891e-02,\n",
       "       -6.47386786e-03, -3.11413720e-02,  1.84717193e-02, -1.55380873e-02,\n",
       "       -1.68315372e-02, -1.50053239e-02,  3.64151463e-03,  2.74048762e-02,\n",
       "       -1.01272733e-02,  4.24841896e-03, -2.87652517e-03, -1.81545010e-02,\n",
       "        2.65535022e-02,  2.14261954e-03, -1.68887046e-02,  6.57510493e-03,\n",
       "       -1.62280077e-02, -2.21755678e-02, -1.19597160e-02, -4.58783485e-02,\n",
       "        1.90467752e-02, -2.44550472e-02, -2.44643422e-02, -2.66190437e-02,\n",
       "        7.28070033e-03, -2.25112399e-02,  9.14703795e-03, -1.24302264e-02,\n",
       "        6.35615588e-03, -1.19504395e-02, -1.25844342e-02,  3.27869348e-02,\n",
       "        2.09823708e-02, -9.95311311e-04,  1.18394178e-02,  1.08340951e-02,\n",
       "        9.61241400e-03,  4.50015663e-02, -1.11108433e-03, -3.35421945e-02,\n",
       "       -3.33731672e-02,  4.31593781e-03, -6.36434947e-03, -3.00685634e-02,\n",
       "       -1.06757865e-02, -4.01055058e-03,  4.20846511e-02,  6.62043306e-03,\n",
       "        1.72154788e-03,  3.78969279e-02, -1.33388285e-02,  7.54964852e-03,\n",
       "        1.98029676e-02, -1.57638386e-03, -1.72087940e-02, -3.70491651e-02,\n",
       "        1.44918438e-02,  1.32115281e-02,  2.58906849e-02,  2.26480815e-02,\n",
       "        6.23426186e-03, -1.85531419e-02, -1.00613267e-02,  3.16972126e-02,\n",
       "       -2.87575536e-03,  3.69757689e-02,  2.30575532e-02,  2.38999976e-03,\n",
       "       -9.65831285e-03,  8.45211860e-03, -7.05621288e-03, -1.35345893e-02,\n",
       "        1.18179621e-02, -1.98764032e-03, -1.27356518e-02,  4.89933459e-03,\n",
       "       -8.15496431e-03,  1.96379379e-03, -9.63358281e-03,  2.84422005e-02,\n",
       "       -7.05961068e-03,  4.08043390e-02,  2.82221299e-03,  2.49952423e-02,\n",
       "       -5.10549504e-03, -7.33969458e-03,  6.56241456e-03, -3.03029238e-03,\n",
       "       -5.33486507e-03, -9.81569164e-03, -1.31692784e-02, -2.56630780e-02,\n",
       "        1.87070828e-02, -6.93678877e-03, -1.64603320e-02, -1.90505373e-03,\n",
       "        1.08661136e-02,  3.10229403e-02, -1.45910589e-02, -1.83990415e-02,\n",
       "        6.85959195e-03,  1.71527654e-02,  8.55495786e-03, -3.99757536e-03,\n",
       "       -1.58656279e-02,  2.40672938e-02, -5.71079690e-03, -1.12745725e-02,\n",
       "       -3.92496863e-03, -2.03392134e-02,  2.91917818e-02,  1.96579333e-02,\n",
       "       -1.70588245e-02, -2.50022549e-02, -1.60379910e-03,  2.53311367e-02,\n",
       "        3.88354232e-03,  1.71879890e-02,  3.37847273e-03, -1.89465383e-02,\n",
       "       -1.49105708e-03,  1.83991357e-02, -1.99104298e-02,  3.73666538e-02,\n",
       "       -2.69925806e-02,  3.14934365e-03,  4.29133474e-02, -3.72099430e-02,\n",
       "        4.76069076e-03, -2.17901957e-02,  1.65858070e-02,  2.00647819e-02,\n",
       "       -7.26189285e-03, -5.75511977e-03, -2.71324099e-02, -1.03032582e-02,\n",
       "       -1.70316261e-02,  4.69242608e-02,  2.80600784e-02, -2.46698754e-02,\n",
       "        8.90303259e-03,  1.97673023e-02, -8.48789746e-03, -3.22975509e-02,\n",
       "       -1.21634480e-02,  1.73877787e-02, -3.35335308e-02,  7.37921130e-03,\n",
       "        3.12745257e-02,  6.60730138e-03,  1.55662127e-02,  1.16456177e-02,\n",
       "       -2.20930775e-02,  1.66435864e-02, -4.77524248e-03, -6.17538244e-03,\n",
       "       -1.68953497e-02,  1.59211898e-02, -8.03840918e-03, -8.41776589e-03,\n",
       "       -2.46755574e-02,  4.03012147e-03,  2.05741611e-02,  1.24088475e-02,\n",
       "       -2.55962427e-03, -2.80368854e-02,  1.05026396e-02, -8.04962476e-03,\n",
       "        1.19054017e-02,  6.93159477e-03,  8.36111887e-03,  1.39228407e-02,\n",
       "        1.43700055e-02, -1.20948921e-03, -2.96908284e-04, -4.15199170e-02,\n",
       "       -1.11074302e-02,  1.11407470e-02,  5.43945685e-02, -3.65580167e-02,\n",
       "       -1.48370480e-02, -1.58208734e-02, -1.26180642e-02,  1.34910745e-02,\n",
       "       -2.68015398e-02, -2.66922741e-02,  1.04804180e-02,  3.38145518e-02,\n",
       "       -1.66054380e-03, -2.86494126e-02, -9.03084138e-05, -5.58366378e-03,\n",
       "       -1.94900296e-04,  1.28486482e-02, -9.51332558e-03, -3.60697421e-02,\n",
       "       -1.78507240e-02,  5.72142745e-03,  2.93501360e-02,  7.59481674e-03,\n",
       "       -2.28748479e-02,  1.05631990e-02, -3.12733487e-02,  1.47425732e-02,\n",
       "        1.78608929e-02, -1.54899172e-02,  4.19384358e-03,  4.36053282e-04,\n",
       "       -2.25770969e-04,  8.75160266e-03,  2.66962100e-02, -1.21646924e-02,\n",
       "       -1.61046326e-02, -3.10009015e-02, -6.36096220e-03, -8.00558899e-04,\n",
       "        1.87301131e-02,  2.43433196e-02,  3.36419432e-02,  1.41062480e-02,\n",
       "       -1.56194279e-02,  1.09606009e-02,  7.33540394e-03,  2.52265384e-02,\n",
       "        1.65677971e-02,  2.90868042e-02,  2.60703799e-03, -4.23502600e-02,\n",
       "       -6.06720700e-03, -3.55388720e-03, -2.35882968e-02, -1.94441452e-02,\n",
       "       -1.99502209e-02,  2.59306192e-02,  4.96191662e-03,  8.85833939e-03,\n",
       "       -3.87560736e-02, -2.05856086e-02, -2.13735927e-02, -7.17234298e-03,\n",
       "        2.08148101e-02, -1.70729379e-02, -1.19214362e-03,  2.62720635e-02,\n",
       "        5.68564473e-03,  2.42681884e-02, -1.24231242e-02, -2.00560155e-02,\n",
       "       -7.61317634e-03,  5.67839078e-03, -1.93238636e-02, -5.42847168e-03,\n",
       "        2.84292612e-02, -2.13149491e-02, -3.29936788e-02,  2.64426962e-02,\n",
       "        2.79802064e-02, -1.62735992e-02,  3.16484236e-02,  1.79566137e-02,\n",
       "        2.11952164e-02, -1.81966644e-02,  2.26169864e-03,  6.12005492e-03,\n",
       "        1.58308461e-02,  3.86531421e-04, -3.16453829e-02, -4.90938766e-03,\n",
       "        9.36881121e-03, -5.03238551e-03, -2.09440815e-02,  1.42238070e-02,\n",
       "       -3.52634421e-03, -8.91996337e-03, -2.88515087e-02,  1.93954500e-02,\n",
       "       -1.98696283e-02, -1.41738596e-02, -1.24083962e-02,  2.88777637e-02,\n",
       "        1.69583950e-02, -5.10979304e-03, -3.68049334e-03,  2.23759518e-02,\n",
       "        2.34186934e-02, -5.94549763e-03,  4.33663120e-02,  5.71627399e-03,\n",
       "        6.12772596e-03, -3.89506398e-03,  2.13286490e-02, -1.31720288e-02,\n",
       "       -7.97415345e-03,  6.33015101e-03, -4.20342161e-03, -5.44810386e-03,\n",
       "       -6.34468052e-03,  3.40759825e-02,  3.93063815e-03, -3.74214069e-03,\n",
       "        1.44160833e-02,  2.46835919e-03,  1.41687576e-02, -1.27526792e-03,\n",
       "       -1.59806367e-02,  2.74141107e-02,  2.65611092e-03, -9.41053255e-04,\n",
       "       -2.83187101e-02,  2.97116454e-02,  2.48941788e-02,  8.88383273e-03,\n",
       "        6.90168215e-03, -7.44156706e-04, -9.94832090e-03,  1.32040433e-02,\n",
       "        1.76043438e-02,  4.57153011e-03, -3.03466474e-03,  1.39571539e-02,\n",
       "       -2.74485266e-02,  2.12145689e-02,  2.41870761e-02, -2.84846017e-02,\n",
       "        1.05978932e-03, -3.05481688e-02, -1.39083773e-02,  1.10208315e-03,\n",
       "        2.37854430e-02,  4.70820773e-04,  1.55910072e-02, -2.97914011e-02,\n",
       "        1.42007920e-02,  7.95449984e-03, -2.24754874e-03, -1.28931445e-02,\n",
       "       -1.63851612e-02,  1.99978629e-02, -1.82616866e-02,  3.40623293e-03,\n",
       "       -6.20653898e-03,  2.06236106e-02, -2.26983016e-02, -3.35887589e-03,\n",
       "        5.19053467e-03, -1.69030877e-02, -3.90707965e-02, -1.71997169e-02,\n",
       "        1.09217669e-02,  6.14583449e-03, -3.54185822e-02,  2.27219415e-02,\n",
       "        1.89919344e-02, -2.56492902e-03,  1.75049712e-02, -3.18857452e-02,\n",
       "       -5.77047461e-03, -1.04005545e-02,  9.09259226e-04, -2.55520896e-02,\n",
       "       -4.50011502e-02,  2.26336411e-02,  4.88764377e-03,  4.94465577e-03,\n",
       "       -1.09111020e-02, -2.40421737e-02, -6.00933077e-03, -3.90508579e-03,\n",
       "        7.88550192e-03,  1.46282683e-03,  4.62796119e-03,  5.86888216e-03,\n",
       "        9.42601361e-03,  1.77989465e-02, -2.03536037e-02, -1.81077608e-02,\n",
       "       -1.33269378e-02, -2.40100550e-02, -4.69288738e-03,  4.79121944e-03,\n",
       "        1.92330906e-02,  8.07817525e-03, -5.21473329e-03,  6.55208274e-02,\n",
       "       -2.31296593e-03, -1.12855156e-02,  1.14534756e-02,  1.94653240e-02,\n",
       "       -2.03878492e-02,  7.72048408e-03, -1.32520773e-03, -2.04116505e-02,\n",
       "        1.99799476e-02,  9.26632640e-03,  1.31037707e-02,  4.10901043e-03,\n",
       "       -6.63236055e-04,  2.32358245e-02, -1.32120140e-02,  2.29805863e-02,\n",
       "        1.51996032e-02,  1.14534764e-02,  3.08113407e-02, -9.01412210e-03,\n",
       "        1.34835494e-02, -2.62102648e-02, -1.31626744e-02, -2.04817620e-03,\n",
       "        2.91752884e-03, -1.57933636e-02, -3.15944192e-02,  1.55085169e-02,\n",
       "       -4.34568164e-03, -1.56314559e-02,  2.52140188e-02,  1.98451646e-02,\n",
       "       -3.52108513e-02, -5.38639864e-03,  1.82103665e-02, -2.22740142e-02,\n",
       "        3.40913164e-04, -1.49398211e-02, -2.25888446e-02, -8.97066831e-03,\n",
       "       -2.05462670e-02,  1.70860918e-02,  1.86589786e-02, -1.59877459e-02,\n",
       "       -1.56588989e-02, -1.18229136e-02, -2.04383851e-03, -1.44856273e-02,\n",
       "       -1.13975824e-04,  5.66240730e-04, -1.63137972e-02,  2.67919204e-02,\n",
       "       -7.67270333e-03, -1.52286498e-02, -1.60017296e-04, -5.86824668e-03,\n",
       "       -2.45219975e-02,  1.61994017e-02, -4.15561946e-03, -1.56455681e-02,\n",
       "       -1.92456801e-02, -1.96457233e-02,  2.80856811e-02, -1.04579301e-02,\n",
       "       -6.67738675e-03,  1.90356963e-02,  1.17960826e-02, -5.50584531e-03,\n",
       "       -6.54987395e-03, -2.71946387e-02, -1.68691498e-02, -4.71083110e-02,\n",
       "        5.24613075e-03, -1.14427917e-02, -1.58168325e-02, -1.69014296e-02,\n",
       "        1.09139016e-02, -1.26829004e-02,  6.35694486e-03, -1.35937463e-02,\n",
       "        1.01903152e-02,  1.77868460e-02, -5.67000725e-03, -1.78524920e-02,\n",
       "        1.17545857e-02,  3.18780193e-02, -1.25099847e-03, -1.13309175e-04,\n",
       "        2.74598350e-03, -2.90977395e-03, -1.22500117e-02, -3.56901586e-02,\n",
       "        1.74728780e-02, -7.94522710e-04,  2.58508314e-03, -2.03575365e-02,\n",
       "       -1.54099779e-02, -1.32821580e-02,  3.59212915e-03, -3.41016890e-02,\n",
       "       -5.63565842e-04, -6.68972990e-03,  2.86272832e-03,  9.17937216e-03,\n",
       "       -4.42282138e-02, -7.91629124e-03, -9.62655719e-03, -5.24123392e-02,\n",
       "        1.10835090e-02,  1.34377911e-02, -1.29342841e-02, -3.09389083e-03,\n",
       "        3.55775911e-03,  4.37390780e-03,  8.14816054e-03, -5.77862629e-02,\n",
       "        2.44135740e-02,  2.76488396e-02,  1.80516823e-02,  2.65167004e-03,\n",
       "       -1.23309519e-02, -1.45651768e-02,  1.62679383e-02, -2.11212288e-02,\n",
       "       -9.28571023e-03,  2.55685806e-02, -1.29708378e-02,  7.35982499e-03,\n",
       "       -4.25082484e-03, -4.96147266e-03, -5.90317950e-02,  6.06458626e-03,\n",
       "       -9.42095673e-03,  1.38065945e-02,  9.09204898e-03,  1.69383017e-02,\n",
       "        1.33054971e-03,  5.09550256e-03,  6.84569357e-03,  2.60698083e-02,\n",
       "        2.47972978e-02,  9.56750305e-03,  2.16236641e-02,  1.67044588e-02,\n",
       "       -2.56826369e-02, -6.55064138e-03,  2.67209636e-02,  7.61162089e-03,\n",
       "        1.03271108e-04, -3.77841785e-02, -3.29406645e-02, -9.47592097e-03,\n",
       "        4.39859259e-02,  1.39869982e-02,  1.06028893e-02, -2.49707538e-02,\n",
       "       -1.53021858e-03,  1.38030991e-03,  4.43040023e-03,  6.49913518e-03,\n",
       "       -1.16710893e-04, -7.74387280e-04,  4.94251450e-02,  1.18642925e-02,\n",
       "        2.69811004e-02,  3.10449291e-02, -1.01231347e-02,  9.93021789e-03,\n",
       "       -1.53281416e-02, -7.48561274e-03, -2.64735318e-02,  2.82293530e-02,\n",
       "       -2.34533956e-02, -2.74104148e-02,  2.91942484e-02,  2.79306413e-02,\n",
       "       -2.52644069e-02,  8.68465075e-03, -1.93303475e-02, -4.13180219e-03,\n",
       "        2.21194434e-02,  3.06603089e-02,  4.74247596e-02,  2.74786010e-02,\n",
       "        3.30371420e-02, -3.07257640e-03, -1.53102310e-02,  1.49549011e-02,\n",
       "       -8.86321292e-03,  9.56412539e-04, -3.04816645e-03, -1.17020236e-02,\n",
       "        4.15660489e-03, -2.93525046e-02, -1.29479165e-02,  1.99821118e-02,\n",
       "        5.17123436e-03, -2.05679362e-02, -2.24155940e-02,  1.39410997e-02,\n",
       "       -2.41424322e-02, -5.16331051e-02, -1.19380376e-02,  1.17242693e-02,\n",
       "       -1.04815744e-02, -1.22042179e-02,  6.71959512e-03,  1.90115067e-02,\n",
       "       -5.48544514e-03, -3.40967700e-02, -2.78141047e-02,  1.15257090e-02,\n",
       "        4.78855683e-02, -6.51115112e-03, -6.54289826e-03, -6.53783360e-04,\n",
       "       -1.59255909e-02,  1.29366727e-02, -2.27769978e-02, -1.37903209e-02,\n",
       "       -1.50539130e-02, -1.67753176e-02, -3.72080878e-02,  3.82947555e-03,\n",
       "       -9.65743128e-03, -1.11259887e-02,  3.85585435e-03, -1.13553829e-03,\n",
       "       -1.49499525e-02, -2.50236905e-02, -1.91788679e-02, -4.23144867e-02,\n",
       "        1.43909223e-02, -1.33808886e-02, -3.95537742e-02,  2.84281379e-02])"
      ]
     },
     "execution_count": 35,
     "metadata": {},
     "output_type": "execute_result"
    }
   ],
   "source": [
    "null_vals"
   ]
  },
  {
   "cell_type": "code",
   "execution_count": 36,
   "metadata": {},
   "outputs": [],
   "source": [
    "# Compute p-value\n"
   ]
  },
  {
   "cell_type": "code",
   "execution_count": null,
   "metadata": {},
   "outputs": [],
   "source": []
  },
  {
   "cell_type": "code",
   "execution_count": null,
   "metadata": {},
   "outputs": [],
   "source": []
  },
  {
   "cell_type": "code",
   "execution_count": null,
   "metadata": {},
   "outputs": [],
   "source": []
  },
  {
   "cell_type": "code",
   "execution_count": null,
   "metadata": {},
   "outputs": [],
   "source": []
  },
  {
   "cell_type": "code",
   "execution_count": null,
   "metadata": {},
   "outputs": [],
   "source": []
  }
 ],
 "metadata": {
  "kernelspec": {
   "display_name": "Python 3",
   "language": "python",
   "name": "python3"
  },
  "language_info": {
   "codemirror_mode": {
    "name": "ipython",
    "version": 3
   },
   "file_extension": ".py",
   "mimetype": "text/x-python",
   "name": "python",
   "nbconvert_exporter": "python",
   "pygments_lexer": "ipython3",
   "version": "3.6.7"
  }
 },
 "nbformat": 4,
 "nbformat_minor": 2
}
