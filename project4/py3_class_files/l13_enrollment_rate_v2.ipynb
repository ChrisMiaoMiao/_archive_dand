{
 "cells": [
  {
   "cell_type": "code",
   "execution_count": 2,
   "metadata": {},
   "outputs": [],
   "source": [
    "import numpy as np\n",
    "import pandas as pd\n",
    "import matplotlib.pyplot as plt\n",
    "%matplotlib inline\n",
    "\n",
    "np.random.seed(42)"
   ]
  },
  {
   "cell_type": "code",
   "execution_count": 3,
   "metadata": {},
   "outputs": [
    {
     "data": {
      "text/html": [
       "<div>\n",
       "<style scoped>\n",
       "    .dataframe tbody tr th:only-of-type {\n",
       "        vertical-align: middle;\n",
       "    }\n",
       "\n",
       "    .dataframe tbody tr th {\n",
       "        vertical-align: top;\n",
       "    }\n",
       "\n",
       "    .dataframe thead th {\n",
       "        text-align: right;\n",
       "    }\n",
       "</style>\n",
       "<table border=\"1\" class=\"dataframe\">\n",
       "  <thead>\n",
       "    <tr style=\"text-align: right;\">\n",
       "      <th></th>\n",
       "      <th>timestamp</th>\n",
       "      <th>id</th>\n",
       "      <th>group</th>\n",
       "      <th>action</th>\n",
       "      <th>duration</th>\n",
       "    </tr>\n",
       "  </thead>\n",
       "  <tbody>\n",
       "    <tr>\n",
       "      <th>0</th>\n",
       "      <td>2016-09-24 17:14:52.012145</td>\n",
       "      <td>261869</td>\n",
       "      <td>experiment</td>\n",
       "      <td>view</td>\n",
       "      <td>130.545004</td>\n",
       "    </tr>\n",
       "    <tr>\n",
       "      <th>1</th>\n",
       "      <td>2016-09-24 18:45:09.645857</td>\n",
       "      <td>226546</td>\n",
       "      <td>experiment</td>\n",
       "      <td>view</td>\n",
       "      <td>159.862440</td>\n",
       "    </tr>\n",
       "    <tr>\n",
       "      <th>2</th>\n",
       "      <td>2016-09-24 19:16:21.002533</td>\n",
       "      <td>286353</td>\n",
       "      <td>experiment</td>\n",
       "      <td>view</td>\n",
       "      <td>79.349315</td>\n",
       "    </tr>\n",
       "    <tr>\n",
       "      <th>3</th>\n",
       "      <td>2016-09-24 19:43:06.927785</td>\n",
       "      <td>842279</td>\n",
       "      <td>experiment</td>\n",
       "      <td>view</td>\n",
       "      <td>55.536126</td>\n",
       "    </tr>\n",
       "    <tr>\n",
       "      <th>4</th>\n",
       "      <td>2016-09-24 21:08:22.790333</td>\n",
       "      <td>781883</td>\n",
       "      <td>experiment</td>\n",
       "      <td>view</td>\n",
       "      <td>204.322437</td>\n",
       "    </tr>\n",
       "  </tbody>\n",
       "</table>\n",
       "</div>"
      ],
      "text/plain": [
       "                    timestamp      id       group action    duration\n",
       "0  2016-09-24 17:14:52.012145  261869  experiment   view  130.545004\n",
       "1  2016-09-24 18:45:09.645857  226546  experiment   view  159.862440\n",
       "2  2016-09-24 19:16:21.002533  286353  experiment   view   79.349315\n",
       "3  2016-09-24 19:43:06.927785  842279  experiment   view   55.536126\n",
       "4  2016-09-24 21:08:22.790333  781883  experiment   view  204.322437"
      ]
     },
     "execution_count": 3,
     "metadata": {},
     "output_type": "execute_result"
    }
   ],
   "source": [
    "df = pd.read_csv('course_page_actions.csv')\n",
    "df.head()"
   ]
  },
  {
   "cell_type": "code",
   "execution_count": 4,
   "metadata": {},
   "outputs": [
    {
     "data": {
      "text/plain": [
       "0.23452157598499063"
      ]
     },
     "execution_count": 4,
     "metadata": {},
     "output_type": "execute_result"
    }
   ],
   "source": [
    "# new solution\n",
    "# 因为CTR是看cookie的，所以不要求unique，所以不用nunique（视频中之前的）\n",
    "# 只是用count()就好了\n",
    "# Get dataframe with all records from control group\n",
    "control_df = df.query('group == \"control\"')\n",
    "\n",
    "# Compute click through rate for control group\n",
    "# control_ctr = control_df.query('action == \"enroll\"').id.nunique() / control_df.query('action == \"view\"').id.nunique()\n",
    "control_ctr = control_df.query('action == \"enroll\"').count()[0] / control_df.query('action == \"view\"').count()[0]\n",
    "## 上面的分母之所以要进行action == view的筛选，是因为同一个id view和enroll是分开计算的。所以这里要排除掉enroll的\n",
    "\n",
    "# Display click through rate\n",
    "control_ctr"
   ]
  },
  {
   "cell_type": "code",
   "execution_count": 5,
   "metadata": {},
   "outputs": [
    {
     "data": {
      "text/plain": [
       "0.2642986152919928"
      ]
     },
     "execution_count": 5,
     "metadata": {},
     "output_type": "execute_result"
    }
   ],
   "source": [
    "# new solution\n",
    "# Get dataframe with all records from experiment group\n",
    "experiment_df = df.query('group == \"experiment\"')\n",
    "\n",
    "# Compute click through rate for experiment group\n",
    "experiment_ctr = experiment_df.query('action == \"enroll\"').count()[0] / experiment_df.query('action == \"view\"').count()[0]\n",
    "\n",
    "# Display click through rate\n",
    "experiment_ctr"
   ]
  },
  {
   "cell_type": "code",
   "execution_count": 6,
   "metadata": {},
   "outputs": [
    {
     "data": {
      "text/plain": [
       "0.02977703930700215"
      ]
     },
     "execution_count": 6,
     "metadata": {},
     "output_type": "execute_result"
    }
   ],
   "source": [
    "# Compute the observed difference in click through rates\n",
    "obs_diff = experiment_ctr - control_ctr\n",
    "\n",
    "# Display observed difference\n",
    "obs_diff"
   ]
  },
  {
   "cell_type": "code",
   "execution_count": 13,
   "metadata": {},
   "outputs": [],
   "source": [
    "# kylie\n",
    "# Create a sampling distribution of the difference in proportions\n",
    "# with bootstrapping\n",
    "# 设定空列表\n",
    "diffs = []\n",
    "size = df.shape[0]\n",
    "# 循环1w遍\n",
    "for _ in range(1000):\n",
    "    # 抽样每次抽样都是和df相同的数量（所以会比较慢）\n",
    "    # 使用自展法\n",
    "    b_samp = df.sample(size, replace=True)\n",
    "    # 区分control组与experiment组\n",
    "    control_df = b_samp.query('group == \"control\"')\n",
    "    experiment_df = b_samp.query('group == \"experiment\"')\n",
    "    # 得出两个组的CTR\n",
    "    control_ctr = control_df.query('action == \"enroll\"').count()[0] / control_df.query('action == \"view\"').count()[0]\n",
    "    experiment_ctr = experiment_df.query('action == \"enroll\"').count()[0] / experiment_df.query('action == \"view\"').count()[0]\n",
    "    # 计算CTR的差值追加到diffs中\n",
    "    diffs.append(experiment_ctr - control_ctr)"
   ]
  },
  {
   "cell_type": "code",
   "execution_count": 14,
   "metadata": {},
   "outputs": [
    {
     "data": {
      "image/png": "[encoded data removed]",
      "text/plain": [
       "<Figure size 432x288 with 1 Axes>"
      ]
     },
     "metadata": {
      "needs_background": "light"
     },
     "output_type": "display_data"
    }
   ],
   "source": [
    "# 之后将列表转为array格式（好用np的特性）\n",
    "diffs = np.array(diffs)\n",
    "# 画个图\n",
    "plt.hist(diffs)\n",
    "# 我们可以把实际的diff画个红线做参考\n",
    "plt.axvline(x = obs_diff, color = 'red');"
   ]
  },
  {
   "cell_type": "code",
   "execution_count": 15,
   "metadata": {},
   "outputs": [
    {
     "data": {
      "text/plain": [
       "0.019344337339204216"
      ]
     },
     "execution_count": 15,
     "metadata": {},
     "output_type": "execute_result"
    },
    {
     "data": {
      "image/png": "[encoded data removed]",
      "text/plain": [
       "<Figure size 432x288 with 1 Axes>"
      ]
     },
     "metadata": {
      "needs_background": "light"
     },
     "output_type": "display_data"
    }
   ],
   "source": [
    "# Simulate distribution under the null hypothesis\n",
    "# 因为diffs是正态分布，所以使用random.normal优化模拟\n",
    "# 使用.random.normal模拟正态分布\n",
    "# !!! 0为正态分布的中点（因为H0假设是没区别，所以中点为0）\n",
    "# 使用实际数据的diffs.std()进行模拟（std决定了正态分布的宽窄）\n",
    "# 数量依旧和实际保持一致（diffs.size)\n",
    "null_vals = np.random.normal(0,diffs.std(), diffs.size)\n",
    "\n",
    "# Plot observed statistic with the null distibution\n",
    "# 再画个图呗\n",
    "plt.hist(null_vals)\n",
    "# 我们可以把实际的diff画个红线做参考\n",
    "plt.axvline(x = obs_diff, color = 'red')\n",
    "# 也把h0假设没有差异的0画出来\n",
    "plt.axvline(x = 0, color = 'orange');\n",
    "diffs.std()"
   ]
  },
  {
   "cell_type": "code",
   "execution_count": 16,
   "metadata": {},
   "outputs": [
    {
     "data": {
      "text/plain": [
       "0.061"
      ]
     },
     "execution_count": 16,
     "metadata": {},
     "output_type": "execute_result"
    }
   ],
   "source": [
    "# 直接用正态分布模拟出来的和真正的obs做比较\n",
    "# 直接比较 p值\n",
    "# null_vals > obs_diff 是直接使用的向量计算\n",
    "# 生成的是一个True False的 array\n",
    "# 直接使用mean就会得出True的比率\n",
    "# 因为True相当于1，False相当于0\n",
    "(null_vals > obs_diff).mean()\n",
    "# 结果发现比a = 0.05小，可以拒绝0假设了"
   ]
  }
 ],
 "metadata": {
  "kernelspec": {
   "display_name": "Python 3",
   "language": "python",
   "name": "python3"
  },
  "language_info": {
   "codemirror_mode": {
    "name": "ipython",
    "version": 3
   },
   "file_extension": ".py",
   "mimetype": "text/x-python",
   "name": "python",
   "nbconvert_exporter": "python",
   "pygments_lexer": "ipython3",
   "version": "3.6.7"
  }
 },
 "nbformat": 4,
 "nbformat_minor": 2
}
